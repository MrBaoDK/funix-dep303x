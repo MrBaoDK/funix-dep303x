{
  "nbformat": 4,
  "nbformat_minor": 0,
  "metadata": {
    "colab": {
      "provenance": []
    },
    "kernelspec": {
      "name": "python3",
      "display_name": "Python 3"
    },
    "language_info": {
      "name": "python"
    }
  },
  "cells": [
    {
      "cell_type": "markdown",
      "metadata": {
        "id": "ZaL70vgSqsqe"
      },
      "source": [
        "# Lab 6.1: AggDemo\n",
        "\n",
        "## Tổng quan bài tập\n",
        "**Đề bài**: Hãy hoàn thiện các phần `[...]` để hoàn thiện đoạn code và giải quyết bài toán theo yêu cầu.\n",
        "\n",
        "## Tài nguyên tham khảo\n",
        "\n",
        "Bạn có thể tải tập Dataset tại [link sau](https://drive.google.com/file/d/1Xi_kx_iyE96qTmLU8kb4L4GtRAx0BFF5/view?usp=sharing). Sau đó đưa lên Google Drive và kết nối với Colab là có thể sử dụng được. Tập dữ liệu là file .csv có cấu trúc như sau:\n",
        "```\n",
        "root\n",
        " |-- InvoiceNo: string (nullable = true)\n",
        " |-- StockCode: string (nullable = true)\n",
        " |-- Description: string (nullable = true)\n",
        " |-- Quantity: integer (nullable = true)\n",
        " |-- InvoiceDate: string (nullable = true)\n",
        " |-- UnitPrice: double (nullable = true)\n",
        " |-- CustomerID: integer (nullable = true)\n",
        " |-- Country: string (nullable = true)\n",
        "```"
      ]
    },
    {
      "cell_type": "markdown",
      "metadata": {
        "id": "oPRu5D4IfO3I"
      },
      "source": [
        "# Cài đặt Spark trên Google Colab\n",
        "\n",
        "Để có thể sử dụng Spark trên môi trường Google Colab thì bạn sẽ cần cài đặt một số thành phần sau:\n",
        "- Java 8\n",
        "- Spark Binary\n",
        "- findspark"
      ]
    },
    {
      "cell_type": "code",
      "metadata": {
        "id": "yHdKMp8zeMel",
        "colab": {
          "base_uri": "https://localhost:8080/"
        },
        "outputId": "59f0ada9-9206-4f64-d8aa-b126a78430f9"
      },
      "source": [
        "!sudo apt update\n",
        "!apt-get install openjdk-8-jdk-headless -qq > /dev/null\n",
        "!wget -q https://downloads.apache.org/spark/spark-3.5.0/spark-3.5.0-bin-hadoop3.tgz\n",
        "!tar xf spark-3.5.0-bin-hadoop3.tgz\n",
        "!pip install -q findspark"
      ],
      "execution_count": 1,
      "outputs": [
        {
          "output_type": "stream",
          "name": "stdout",
          "text": [
            "\u001b[33m\r0% [Working]\u001b[0m\r            \rHit:1 https://developer.download.nvidia.com/compute/cuda/repos/ubuntu2204/x86_64  InRelease\n",
            "\u001b[33m\r0% [Connecting to archive.ubuntu.com] [Waiting for headers] [Waiting for header\u001b[0m\r                                                                               \rGet:2 http://security.ubuntu.com/ubuntu jammy-security InRelease [110 kB]\n",
            "Get:3 https://cloud.r-project.org/bin/linux/ubuntu jammy-cran40/ InRelease [3,626 B]\n",
            "Hit:4 http://archive.ubuntu.com/ubuntu jammy InRelease\n",
            "Get:5 http://archive.ubuntu.com/ubuntu jammy-updates InRelease [119 kB]\n",
            "Hit:6 http://archive.ubuntu.com/ubuntu jammy-backports InRelease\n",
            "Get:7 http://archive.ubuntu.com/ubuntu jammy-updates/universe amd64 Packages [1,333 kB]\n",
            "Get:8 https://ppa.launchpadcontent.net/c2d4u.team/c2d4u4.0+/ubuntu jammy InRelease [18.1 kB]\n",
            "Get:9 http://archive.ubuntu.com/ubuntu jammy-updates/main amd64 Packages [1,678 kB]\n",
            "Hit:10 https://ppa.launchpadcontent.net/deadsnakes/ppa/ubuntu jammy InRelease\n",
            "Hit:11 https://ppa.launchpadcontent.net/graphics-drivers/ppa/ubuntu jammy InRelease\n",
            "Hit:12 https://ppa.launchpadcontent.net/ubuntugis/ppa/ubuntu jammy InRelease\n",
            "Get:13 https://ppa.launchpadcontent.net/c2d4u.team/c2d4u4.0+/ubuntu jammy/main Sources [2,268 kB]\n",
            "Get:14 https://ppa.launchpadcontent.net/c2d4u.team/c2d4u4.0+/ubuntu jammy/main amd64 Packages [1,164 kB]\n",
            "Fetched 6,693 kB in 2s (2,827 kB/s)\n",
            "Reading package lists... Done\n",
            "Building dependency tree... Done\n",
            "Reading state information... Done\n",
            "40 packages can be upgraded. Run 'apt list --upgradable' to see them.\n"
          ]
        }
      ]
    },
    {
      "cell_type": "markdown",
      "metadata": {
        "id": "1fv63ddnSOG-"
      },
      "source": [
        "Sau đó, bạn sẽ cần khai báo cho hệ thống các đường dẫn cho các thành phần vừa cài."
      ]
    },
    {
      "cell_type": "code",
      "metadata": {
        "id": "A8gN9Zhx8vPb"
      },
      "source": [
        "import os\n",
        "import findspark\n",
        "\n",
        "os.environ[\"JAVA_HOME\"] = \"/usr/lib/jvm/java-8-openjdk-amd64\"\n",
        "os.environ[\"SPARK_HOME\"] = \"/content/spark-3.5.0-bin-hadoop3\"\n",
        "\n",
        "findspark.init()"
      ],
      "execution_count": 3,
      "outputs": []
    },
    {
      "cell_type": "markdown",
      "metadata": {
        "id": "AM4wpiJMTCib"
      },
      "source": [
        "# Kết nối với Google Drive\n",
        "\n",
        "Để lấy dữ liệu từ các Dataset, bạn sẽ phải lưu file dữ liệu lên Google Drive. Sau đó kết nối Colab đến Google Drive của bạn và lấy được các file dữ liệu."
      ]
    },
    {
      "cell_type": "code",
      "metadata": {
        "colab": {
          "base_uri": "https://localhost:8080/"
        },
        "id": "AoYnrNV7UChX",
        "outputId": "3c8a62c0-ecc9-4bfa-8ea7-e2d044542b88"
      },
      "source": [
        "from google.colab import drive\n",
        "drive.mount(\"/content/gdrive\")"
      ],
      "execution_count": 2,
      "outputs": [
        {
          "output_type": "stream",
          "name": "stdout",
          "text": [
            "Mounted at /content/gdrive\n"
          ]
        }
      ]
    },
    {
      "cell_type": "markdown",
      "metadata": {
        "id": "t0yzaQQNDKoV"
      },
      "source": [
        "# AggDemo\n",
        "\n",
        "Bạn sẽ cần khởi tạo 1 SparkSesson để có thể bắt đầu Spark."
      ]
    },
    {
      "cell_type": "code",
      "metadata": {
        "id": "BjqT5XXj80P8"
      },
      "source": [
        "from pyspark import SparkConf\n",
        "from pyspark.sql import SparkSession\n",
        "from pyspark.sql import functions as f\n",
        "\n",
        "\n",
        "conf = SparkConf() \\\n",
        "    .setMaster('local') \\\n",
        "    .setAppName('AggDemo')\n",
        "\n",
        "spark = SparkSession.builder.config(conf=conf).getOrCreate()\n",
        "sc = spark.sparkContext\n",
        "\n",
        "DATASET_PATH = \"/content/gdrive/My Drive/DEP303/invoices.csv\""
      ],
      "execution_count": 4,
      "outputs": []
    },
    {
      "cell_type": "markdown",
      "metadata": {
        "id": "_5FO4bHieqO3"
      },
      "source": [
        "Đọc dữ liệu từ Dataset"
      ]
    },
    {
      "cell_type": "code",
      "metadata": {
        "colab": {
          "base_uri": "https://localhost:8080/"
        },
        "id": "2E3GtGFtX5SM",
        "outputId": "5f136ae6-f8b8-44cb-c3ec-e40b13c0d553"
      },
      "source": [
        "invoice_df = spark.read \\\n",
        "    .format(\"csv\") \\\n",
        "    .option(\"header\", \"true\") \\\n",
        "    .option(\"inferSchema\", \"true\") \\\n",
        "    .load(DATASET_PATH)\n",
        "\n",
        "invoice_df.show()"
      ],
      "execution_count": 5,
      "outputs": [
        {
          "output_type": "stream",
          "name": "stdout",
          "text": [
            "+---------+---------+--------------------+--------+---------------+---------+----------+--------------+\n",
            "|InvoiceNo|StockCode|         Description|Quantity|    InvoiceDate|UnitPrice|CustomerID|       Country|\n",
            "+---------+---------+--------------------+--------+---------------+---------+----------+--------------+\n",
            "|   536365|     NULL|WHITE HANGING HEA...|       6|01-12-2010 8.26|     2.55|     17850|United Kingdom|\n",
            "|   536365|    71053| WHITE METAL LANTERN|       6|01-12-2010 8.26|     3.39|     17850|United Kingdom|\n",
            "|   536365|   84406B|CREAM CUPID HEART...|       8|01-12-2010 8.26|     2.75|     17850|United Kingdom|\n",
            "|   536365|   84029G|KNITTED UNION FLA...|       6|01-12-2010 8.26|     3.39|     17850|United Kingdom|\n",
            "|   536365|   84029E|RED WOOLLY HOTTIE...|       6|01-12-2010 8.26|     3.39|     17850|United Kingdom|\n",
            "|   536365|    22752|SET 7 BABUSHKA NE...|       2|01-12-2010 8.26|     7.65|     17850|United Kingdom|\n",
            "|   536365|    21730|GLASS STAR FROSTE...|       6|01-12-2010 8.26|     4.25|     17850|United Kingdom|\n",
            "|   536366|    22633|HAND WARMER UNION...|       6|01-12-2010 8.28|     1.85|     17850|United Kingdom|\n",
            "|   536366|    22632|HAND WARMER RED P...|       6|01-12-2010 8.28|     1.85|     17850|United Kingdom|\n",
            "|   536367|    84879|ASSORTED COLOUR B...|      32|01-12-2010 8.34|     1.69|     13047|United Kingdom|\n",
            "|   536367|    22745|POPPY'S PLAYHOUSE...|       6|01-12-2010 8.34|      2.1|     13047|United Kingdom|\n",
            "|   536367|    22748|POPPY'S PLAYHOUSE...|       6|01-12-2010 8.34|      2.1|     13047|United Kingdom|\n",
            "|   536367|    22749|FELTCRAFT PRINCES...|       8|01-12-2010 8.34|     3.75|     13047|United Kingdom|\n",
            "|   536367|    22310|IVORY KNITTED MUG...|       6|01-12-2010 8.34|     1.65|     13047|United Kingdom|\n",
            "|   536367|    84969|BOX OF 6 ASSORTED...|       6|01-12-2010 8.34|     4.25|     13047|United Kingdom|\n",
            "|   536367|    22623|BOX OF VINTAGE JI...|       3|01-12-2010 8.34|     4.95|     13047|United Kingdom|\n",
            "|   536367|    22622|BOX OF VINTAGE AL...|       2|01-12-2010 8.34|     9.95|     13047|United Kingdom|\n",
            "|   536367|    21754|HOME BUILDING BLO...|       3|01-12-2010 8.34|     5.95|     13047|United Kingdom|\n",
            "|   536367|    21755|LOVE BUILDING BLO...|       3|01-12-2010 8.34|     5.95|     13047|United Kingdom|\n",
            "|   536367|    21777|RECIPE BOX WITH M...|       4|01-12-2010 8.34|     7.95|     13047|United Kingdom|\n",
            "+---------+---------+--------------------+--------+---------------+---------+----------+--------------+\n",
            "only showing top 20 rows\n",
            "\n"
          ]
        }
      ]
    },
    {
      "cell_type": "markdown",
      "metadata": {
        "id": "k0L4JD5ke0ht"
      },
      "source": [
        "Hãy sử dụng các thao tác Aggregration để tạo một Dataframe mới với cấu trúc như sau:\n",
        "- `Count`: Số lượng các dòng trong dataset.\n",
        "- `TotalQuantity`: Tổng của tất cả các trường `Quantity` trong dataset.\n",
        "- `AvgPrice`: Trung bình cộng của tất cả các trường `UnitPrice` trong dataset.\n",
        "- `CountDistinct`: Số lượng giá trị riêng biệt của trường `InvoiceNo`."
      ]
    },
    {
      "cell_type": "code",
      "metadata": {
        "colab": {
          "base_uri": "https://localhost:8080/"
        },
        "id": "pDOkm7jtX7V9",
        "outputId": "917a5a5a-c684-4f4e-ab74-2775ab6c25aa"
      },
      "source": [
        "invoice_df.select(f.count(\"*\").alias(\"Count *\"),\n",
        "                  f.sum(\"Quantity\").alias(\"TotalQuantity\"),\n",
        "                  f.avg(\"UnitPrice\").alias(\"AvgPrice\"),\n",
        "                  f.countDistinct(\"InvoiceNo\").alias(\"CountDistinct\")).show()"
      ],
      "execution_count": 6,
      "outputs": [
        {
          "output_type": "stream",
          "name": "stdout",
          "text": [
            "+-------+-------------+------------------+-------------+\n",
            "|Count *|TotalQuantity|          AvgPrice|CountDistinct|\n",
            "+-------+-------------+------------------+-------------+\n",
            "| 541909|      5176450|4.6111136260884855|        25900|\n",
            "+-------+-------------+------------------+-------------+\n",
            "\n"
          ]
        }
      ]
    },
    {
      "cell_type": "markdown",
      "metadata": {
        "id": "tKMxnP54gc0s"
      },
      "source": [
        "Hãy sử dụng các thao tác Aggregration để tạo một Dataframe mới với cấu trúc như sau:\n",
        "- `Count`: Số lượng các dòng trong dataset.\n",
        "- `TotalQuantity`: Tổng của tất cả các trường `Quantity` trong dataset.\n",
        "- `AvgPrice`: Trung bình cộng của tất cả các trường `UnitPrice` trong dataset.\n",
        "\n",
        "Ở phần này, bạn hãy sử dụng dưới dạng String Expression"
      ]
    },
    {
      "cell_type": "code",
      "metadata": {
        "colab": {
          "base_uri": "https://localhost:8080/"
        },
        "id": "JUngL_TSX8mG",
        "outputId": "2e74ac5c-7b9d-4b01-e8ae-26be6eb6c7d3"
      },
      "source": [
        "invoice_df.selectExpr(\"count(1) as Count\",\n",
        "                      \"sum(Quantity) as TotalQuantity\",\n",
        "                      \"avg(UnitPrice) as AvgPrice\").show()"
      ],
      "execution_count": 7,
      "outputs": [
        {
          "output_type": "stream",
          "name": "stdout",
          "text": [
            "+------+-------------+-----------------+\n",
            "| Count|TotalQuantity|         AvgPrice|\n",
            "+------+-------------+-----------------+\n",
            "|541909|      5176450|4.611113626083471|\n",
            "+------+-------------+-----------------+\n",
            "\n"
          ]
        }
      ]
    },
    {
      "cell_type": "markdown",
      "metadata": {
        "id": "kikzjPVniLx9"
      },
      "source": [
        "Hãy sử dụng các thao tác Aggregration để tạo một Dataframe mới với cấu trúc như sau, dữ liệu trong Dataframe này sẽ được gộp nhóm theo hai trường `Country` và `InvoiceNo`:\n",
        "- `Country`: Tên đất nước.\n",
        "- `InvoiceNo`: Mã số hóa đơn.\n",
        "- `TotalQuantity`: Tổng của tất cả các trường `Quantity`.\n",
        "- `InvoiceValue`: Tổng giá trị của hóa đơn, mỗi hóa đơn sẽ có `Value = Quantity * UnitPrice`. Hãy làm tròn giá trị này thành 2 chữ số thập phân.\n",
        "\n",
        "Ở phần này, bạn hãy sử dụng dưới dạng SQL"
      ]
    },
    {
      "cell_type": "code",
      "metadata": {
        "colab": {
          "base_uri": "https://localhost:8080/"
        },
        "id": "6D0WM7N4O5OU",
        "outputId": "26584f83-456b-4a0d-816e-9343b1f27c14"
      },
      "source": [
        "invoice_df.createOrReplaceTempView(\"invoices\")\n",
        "summary_sql = spark.sql(\"\"\"SELECT Country,\n",
        "                                  InvoiceNo,\n",
        "                                  SUM(Quantity) AS TotalQuantity,\n",
        "                                  ROUND(SUM(Quantity*UnitPrice),2) AS InvoiceValue\n",
        "                           FROM invoices\n",
        "                           GROUP BY Country, InvoiceNo\"\"\")\n",
        "\n",
        "summary_sql.show()"
      ],
      "execution_count": 8,
      "outputs": [
        {
          "output_type": "stream",
          "name": "stdout",
          "text": [
            "+--------------+---------+-------------+------------+\n",
            "|       Country|InvoiceNo|TotalQuantity|InvoiceValue|\n",
            "+--------------+---------+-------------+------------+\n",
            "|United Kingdom|   536446|          329|      440.89|\n",
            "|United Kingdom|   536508|          216|      155.52|\n",
            "|United Kingdom|   537018|           -3|         0.0|\n",
            "|United Kingdom|   537401|          -24|         0.0|\n",
            "|United Kingdom|   537811|           74|      268.86|\n",
            "|United Kingdom|  C537824|           -2|       -14.9|\n",
            "|United Kingdom|   538895|          370|      247.38|\n",
            "|United Kingdom|   540453|          341|      302.45|\n",
            "|United Kingdom|   541291|          217|      305.81|\n",
            "|United Kingdom|   542551|           -1|         0.0|\n",
            "|United Kingdom|   542576|           -1|         0.0|\n",
            "|United Kingdom|   542628|            9|      132.35|\n",
            "|United Kingdom|   542886|          199|      320.51|\n",
            "|United Kingdom|   542907|           75|      313.85|\n",
            "|United Kingdom|   543131|          134|       164.1|\n",
            "|United Kingdom|   543189|          102|      153.94|\n",
            "|United Kingdom|   543265|           -4|         0.0|\n",
            "|        Cyprus|   544574|          173|      320.69|\n",
            "|United Kingdom|   545077|           24|       10.08|\n",
            "|United Kingdom|   545300|          116|      323.16|\n",
            "+--------------+---------+-------------+------------+\n",
            "only showing top 20 rows\n",
            "\n"
          ]
        }
      ]
    },
    {
      "cell_type": "markdown",
      "metadata": {
        "id": "3OmjMd6ojYNr"
      },
      "source": [
        "Tương tự với đề bài bên trên, nhưng bạn hãy sử dụng Object Expression để thực hiện."
      ]
    },
    {
      "cell_type": "code",
      "metadata": {
        "colab": {
          "base_uri": "https://localhost:8080/"
        },
        "id": "qqJkryYeYBB_",
        "outputId": "7a9cd4db-861b-4371-855e-da1a9896a65d"
      },
      "source": [
        "summary_df = invoice_df \\\n",
        "    .groupBy(\"Country\", \"InvoiceNo\") \\\n",
        "    .agg(f.sum(\"Quantity\").alias(\"TotalQuantity\"),\n",
        "         f.round(f.sum(f.expr(\"Quantity*UnitPrice\")), 2).alias(\"InvoiceValue\"))\n",
        "\n",
        "summary_df.show()"
      ],
      "execution_count": 9,
      "outputs": [
        {
          "output_type": "stream",
          "name": "stdout",
          "text": [
            "+--------------+---------+-------------+------------+\n",
            "|       Country|InvoiceNo|TotalQuantity|InvoiceValue|\n",
            "+--------------+---------+-------------+------------+\n",
            "|United Kingdom|   536446|          329|      440.89|\n",
            "|United Kingdom|   536508|          216|      155.52|\n",
            "|United Kingdom|   537018|           -3|         0.0|\n",
            "|United Kingdom|   537401|          -24|         0.0|\n",
            "|United Kingdom|   537811|           74|      268.86|\n",
            "|United Kingdom|  C537824|           -2|       -14.9|\n",
            "|United Kingdom|   538895|          370|      247.38|\n",
            "|United Kingdom|   540453|          341|      302.45|\n",
            "|United Kingdom|   541291|          217|      305.81|\n",
            "|United Kingdom|   542551|           -1|         0.0|\n",
            "|United Kingdom|   542576|           -1|         0.0|\n",
            "|United Kingdom|   542628|            9|      132.35|\n",
            "|United Kingdom|   542886|          199|      320.51|\n",
            "|United Kingdom|   542907|           75|      313.85|\n",
            "|United Kingdom|   543131|          134|       164.1|\n",
            "|United Kingdom|   543189|          102|      153.94|\n",
            "|United Kingdom|   543265|           -4|         0.0|\n",
            "|        Cyprus|   544574|          173|      320.69|\n",
            "|United Kingdom|   545077|           24|       10.08|\n",
            "|United Kingdom|   545300|          116|      323.16|\n",
            "+--------------+---------+-------------+------------+\n",
            "only showing top 20 rows\n",
            "\n"
          ]
        }
      ]
    }
  ]
}