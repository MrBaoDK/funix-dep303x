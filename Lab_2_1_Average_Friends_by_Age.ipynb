{
  "nbformat": 4,
  "nbformat_minor": 0,
  "metadata": {
    "colab": {
      "provenance": [],
      "collapsed_sections": [
        "AM4wpiJMTCib"
      ]
    },
    "kernelspec": {
      "name": "python3",
      "display_name": "Python 3"
    },
    "language_info": {
      "name": "python"
    }
  },
  "cells": [
    {
      "cell_type": "markdown",
      "metadata": {
        "id": "ZaL70vgSqsqe"
      },
      "source": [
        "# Lab 2.1: Average Friends by Age\n",
        "\n",
        "## Tổng quan bài tập\n",
        "**Đề bài**: Dựa vào tập dữ liệu, hãy tính số lượng bạn trung bình theo từng tuổi. Hãy hoàn thiện các phần `[...]` để hoàn thiện đoạn code và giải quyết bài toán trên.\n",
        "\n",
        "## Tài nguyên tham khảo\n",
        "\n",
        "Bạn có thể tải tập Dataset tại [link sau](https://drive.google.com/file/d/1br4OUyHIjffJj88vc6aofVr2fe0s4t1x/view?usp=sharing). Sau đó đưa lên Google Drive và kết nối với Colab là có thể sử dụng được. Tập dữ liệu là file .csv gồm 3 cột theo thứ tự sau:\n",
        "- `Index`: Số thứ tự.\n",
        "- `Name`: Tên của người dùng.\n",
        "- `Age`: Tuổi của người đó.\n",
        "- `Friends`: Số lượng bạn hiện tại của người đó.\n",
        "\n",
        "Ngoài ra, bạn có thể tham khảo các video sau trong trường hợp chưa hiểu cách làm bài Lab:\n",
        "- [Average Friends by Age Example](https://fpt-software.udemy.com/course/taming-big-data-with-apache-spark-hands-on/learn/lecture/3710440#overview)\n"
      ]
    },
    {
      "cell_type": "markdown",
      "metadata": {
        "id": "oPRu5D4IfO3I"
      },
      "source": [
        "# Cài đặt Spark trên Google Colab\n",
        "\n",
        "Để có thể sử dụng Spark trên môi trường Google Colab thì bạn sẽ cần cài đặt một số thành phần sau:\n",
        "- Java 8\n",
        "- Spark Binary\n",
        "- findspark"
      ]
    },
    {
      "cell_type": "code",
      "metadata": {
        "id": "yHdKMp8zeMel",
        "colab": {
          "base_uri": "https://localhost:8080/"
        },
        "outputId": "1d61dafa-9ce0-4ee3-df50-bab4901fc106"
      },
      "source": [
        "!sudo apt update\n",
        "!apt-get install openjdk-8-jdk-headless -qq > /dev/null\n",
        "!wget -q https://downloads.apache.org/spark/spark-3.5.0/spark-3.5.0-bin-hadoop3.tgz\n",
        "!tar xf spark-3.5.0-bin-hadoop3.tgz\n",
        "!pip install -q findspark"
      ],
      "execution_count": 2,
      "outputs": [
        {
          "output_type": "stream",
          "name": "stdout",
          "text": [
            "\u001b[33m\r0% [Working]\u001b[0m\r            \rHit:1 http://security.ubuntu.com/ubuntu jammy-security InRelease\n",
            "\u001b[33m\r0% [Connecting to archive.ubuntu.com (91.189.91.83)] [Connected to cloud.r-proj\u001b[0m\r                                                                               \rHit:2 http://archive.ubuntu.com/ubuntu jammy InRelease\n",
            "\r                                                                               \rHit:3 http://archive.ubuntu.com/ubuntu jammy-updates InRelease\n",
            "\r                                                                               \rHit:4 http://archive.ubuntu.com/ubuntu jammy-backports InRelease\n",
            "\u001b[33m\r0% [Connected to cloud.r-project.org (52.85.151.8)] [Connected to ppa.launchpad\u001b[0m\r                                                                               \rHit:5 https://cloud.r-project.org/bin/linux/ubuntu jammy-cran40/ InRelease\n",
            "Hit:6 https://developer.download.nvidia.com/compute/cuda/repos/ubuntu2204/x86_64  InRelease\n",
            "Hit:7 https://ppa.launchpadcontent.net/c2d4u.team/c2d4u4.0+/ubuntu jammy InRelease\n",
            "Hit:8 https://ppa.launchpadcontent.net/deadsnakes/ppa/ubuntu jammy InRelease\n",
            "Hit:9 https://ppa.launchpadcontent.net/graphics-drivers/ppa/ubuntu jammy InRelease\n",
            "Hit:10 https://ppa.launchpadcontent.net/ubuntugis/ppa/ubuntu jammy InRelease\n",
            "Reading package lists... Done\n",
            "Building dependency tree... Done\n",
            "Reading state information... Done\n",
            "38 packages can be upgraded. Run 'apt list --upgradable' to see them.\n"
          ]
        }
      ]
    },
    {
      "cell_type": "markdown",
      "metadata": {
        "id": "1fv63ddnSOG-"
      },
      "source": [
        "Sau đó, bạn sẽ cần khai báo cho hệ thống các đường dẫn cho các thành phần vừa cài."
      ]
    },
    {
      "cell_type": "code",
      "metadata": {
        "id": "A8gN9Zhx8vPb"
      },
      "source": [
        "import os\n",
        "import findspark\n",
        "\n",
        "os.environ[\"JAVA_HOME\"] = \"/usr/lib/jvm/java-8-openjdk-amd64\"\n",
        "os.environ[\"SPARK_HOME\"] = \"/content/spark-3.5.0-bin-hadoop3\"\n",
        "\n",
        "findspark.init()"
      ],
      "execution_count": 3,
      "outputs": []
    },
    {
      "cell_type": "markdown",
      "metadata": {
        "id": "AM4wpiJMTCib"
      },
      "source": [
        "# Kết nối với Google Drive\n",
        "\n",
        "Để lấy dữ liệu từ các Dataset, bạn sẽ phải lưu file dữ liệu lên Google Drive. Sau đó kết nối Colab đến Google Drive của bạn và lấy được các file dữ liệu."
      ]
    },
    {
      "cell_type": "code",
      "metadata": {
        "colab": {
          "base_uri": "https://localhost:8080/"
        },
        "id": "AoYnrNV7UChX",
        "outputId": "fae9b08a-00a7-41a0-fa0b-1fb0ea6ea492"
      },
      "source": [
        "from google.colab import drive\n",
        "drive.mount(\"/content/gdrive\")"
      ],
      "execution_count": 5,
      "outputs": [
        {
          "output_type": "stream",
          "name": "stdout",
          "text": [
            "Drive already mounted at /content/gdrive; to attempt to forcibly remount, call drive.mount(\"/content/gdrive\", force_remount=True).\n"
          ]
        }
      ]
    },
    {
      "cell_type": "markdown",
      "metadata": {
        "id": "t0yzaQQNDKoV"
      },
      "source": [
        "# Average Friends by Age\n",
        "\n",
        "Bạn sẽ cần khởi tạo 1 SparkSesson để có thể bắt đầu Spark."
      ]
    },
    {
      "cell_type": "code",
      "metadata": {
        "id": "BjqT5XXj80P8"
      },
      "source": [
        "from pyspark import SparkConf\n",
        "from pyspark.sql import SparkSession\n",
        "\n",
        "conf = SparkConf() \\\n",
        "    .setMaster('local') \\\n",
        "    .setAppName('avgAgeOfFriends')\n",
        "\n",
        "spark = SparkSession.builder.config(conf=conf).getOrCreate()\n",
        "sc = spark.sparkContext"
      ],
      "execution_count": 6,
      "outputs": []
    },
    {
      "cell_type": "markdown",
      "metadata": {
        "id": "hfVLuwsnKuDu"
      },
      "source": [
        "Đầu tiên, bạn sẽ cần đọc dữ liệu từ Dataset và lưu dưới dạng một RDD"
      ]
    },
    {
      "cell_type": "code",
      "metadata": {
        "id": "yEiMOpueMB6O"
      },
      "source": [
        "DATASET_PATH = \"/content/gdrive/My Drive/DEP303/fakefriends.csv\"\n",
        "lines = sc.textFile(DATASET_PATH)"
      ],
      "execution_count": 8,
      "outputs": []
    },
    {
      "cell_type": "markdown",
      "metadata": {
        "id": "alhtUAk_SFAj"
      },
      "source": [
        "Do được đọc từ file nên RDD đang ở dưới một danh sách các dòng trong file. Bạn cần chuyển RDD này về một danh sách các Key-Value với Key là tuổi và Value là số lượng bạn bè.\n",
        "Ví dụ `0\tWill\t33\t385` sẽ được chuyển thành `(33, 385)`\n"
      ]
    },
    {
      "cell_type": "code",
      "metadata": {
        "id": "5veCcENZIpM3"
      },
      "source": [
        "def parseLine(line):\n",
        "    cells = line.split(',')\n",
        "    age = int(cells[2])\n",
        "    numFriends = int(cells[3])\n",
        "\n",
        "    return (age, numFriends)\n",
        "\n",
        "\n",
        "rdd = lines.map(parseLine)"
      ],
      "execution_count": 12,
      "outputs": []
    },
    {
      "cell_type": "markdown",
      "metadata": {
        "id": "iOJC3S37TKAw"
      },
      "source": [
        "Sau đó, bạn cần tổng hợp lại số người ở cùng một tuổi cũng như tổng số lượng bạn bè của những người đó, sau đó sẽ tính ra được số lượng bạn bè trung bình và đưa ra kết quả"
      ]
    },
    {
      "cell_type": "code",
      "metadata": {
        "id": "lLLEhcGRSAJ1",
        "colab": {
          "base_uri": "https://localhost:8080/"
        },
        "outputId": "98670693-1af8-4925-ddae-3481ff243471"
      },
      "source": [
        "totalsByAge = rdd \\\n",
        "                .mapValues(lambda x: (x, 1)) \\\n",
        "                .reduceByKey(lambda x, y: (x[0] + y[0], x[1] + y[1]))\n",
        "\n",
        "averagesByAge = totalsByAge.mapValues(lambda x: x[0] / x[1])\n",
        "results = averagesByAge.collect()\n",
        "\n",
        "for result in results:\n",
        "    print(result)"
      ],
      "execution_count": 13,
      "outputs": [
        {
          "output_type": "stream",
          "name": "stdout",
          "text": [
            "(33, 325.3333333333333)\n",
            "(26, 242.05882352941177)\n",
            "(55, 295.53846153846155)\n",
            "(40, 250.8235294117647)\n",
            "(68, 269.6)\n",
            "(59, 220.0)\n",
            "(37, 249.33333333333334)\n",
            "(54, 278.0769230769231)\n",
            "(38, 193.53333333333333)\n",
            "(27, 228.125)\n",
            "(53, 222.85714285714286)\n",
            "(57, 258.8333333333333)\n",
            "(56, 306.6666666666667)\n",
            "(43, 230.57142857142858)\n",
            "(36, 246.6)\n",
            "(22, 206.42857142857142)\n",
            "(35, 211.625)\n",
            "(45, 309.53846153846155)\n",
            "(60, 202.71428571428572)\n",
            "(67, 214.625)\n",
            "(19, 213.27272727272728)\n",
            "(30, 235.8181818181818)\n",
            "(51, 302.14285714285717)\n",
            "(25, 197.45454545454547)\n",
            "(21, 350.875)\n",
            "(42, 303.5)\n",
            "(49, 184.66666666666666)\n",
            "(48, 281.4)\n",
            "(50, 254.6)\n",
            "(39, 169.28571428571428)\n",
            "(32, 207.9090909090909)\n",
            "(58, 116.54545454545455)\n",
            "(64, 281.3333333333333)\n",
            "(31, 267.25)\n",
            "(52, 340.6363636363636)\n",
            "(24, 233.8)\n",
            "(20, 165.0)\n",
            "(62, 220.76923076923077)\n",
            "(41, 268.55555555555554)\n",
            "(44, 282.1666666666667)\n",
            "(69, 235.2)\n",
            "(65, 298.2)\n",
            "(61, 256.22222222222223)\n",
            "(28, 209.1)\n",
            "(66, 276.44444444444446)\n",
            "(46, 223.69230769230768)\n",
            "(29, 215.91666666666666)\n",
            "(18, 343.375)\n",
            "(47, 233.22222222222223)\n",
            "(34, 245.5)\n",
            "(63, 384.0)\n",
            "(23, 246.3)\n"
          ]
        }
      ]
    }
  ]
}