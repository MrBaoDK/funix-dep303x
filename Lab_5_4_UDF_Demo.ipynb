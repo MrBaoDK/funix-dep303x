{
  "nbformat": 4,
  "nbformat_minor": 0,
  "metadata": {
    "colab": {
      "provenance": []
    },
    "kernelspec": {
      "name": "python3",
      "display_name": "Python 3"
    },
    "language_info": {
      "name": "python"
    }
  },
  "cells": [
    {
      "cell_type": "markdown",
      "metadata": {
        "id": "ZaL70vgSqsqe"
      },
      "source": [
        "# Lab5.4: UDF Demo\n",
        "\n",
        "## Tổng quan bài tập\n",
        "**Đề bài**: Hãy hoàn thiện các phần `[...]` để hoàn thiện đoạn code và giải quyết bài toán theo yêu cầu.\n",
        "\n",
        "## Tài nguyên tham khảo\n",
        "\n",
        "Bạn có thể tải tập Dataset tại [link sau](https://drive.google.com/file/d/1oER5SNgxlgD00q5rACIoDJJGgzyK9B_4/view?usp=sharing). Sau đó đưa lên Google Drive và kết nối với Colab là có thể sử dụng được. Tập dữ liệu là file .csv gồm 3 cột theo thứ tự sau:\n",
        "- `Index`: Số thứ tự.\n",
        "- `Name`: Tên của người dùng.\n",
        "- `Age`: Tuổi của người đó.\n",
        "- `Friends`: Số lượng bạn hiện tại của người đó.\n",
        "\n",
        "Ngoài ra, bạn có thể tham khảo các video sau trong trường hợp chưa hiểu cách làm bài Lab:\n",
        "- [Average Friends by Age Example](https://fpt-software.udemy.com/course/taming-big-data-with-apache-spark-hands-on/learn/lecture/3710440#overview)\n"
      ]
    },
    {
      "cell_type": "markdown",
      "metadata": {
        "id": "oPRu5D4IfO3I"
      },
      "source": [
        "# Cài đặt Spark trên Google Colab\n",
        "\n",
        "Để có thể sử dụng Spark trên môi trường Google Colab thì bạn sẽ cần cài đặt một số thành phần sau:\n",
        "- Java 8\n",
        "- Spark Binary\n",
        "- findspark"
      ]
    },
    {
      "cell_type": "code",
      "metadata": {
        "id": "yHdKMp8zeMel",
        "colab": {
          "base_uri": "https://localhost:8080/"
        },
        "outputId": "b1253b0b-2c4d-4a66-ede1-509d79545ad2"
      },
      "source": [
        "!sudo apt update\n",
        "!apt-get install openjdk-8-jdk-headless -qq > /dev/null\n",
        "!wget -q https://downloads.apache.org/spark/spark-3.5.0/spark-3.5.0-bin-hadoop3.tgz\n",
        "!tar xf spark-3.5.0-bin-hadoop3.tgz\n",
        "!pip install -q findspark"
      ],
      "execution_count": 2,
      "outputs": [
        {
          "output_type": "stream",
          "name": "stdout",
          "text": [
            "\u001b[33m\r0% [Working]\u001b[0m\r            \rGet:1 https://cloud.r-project.org/bin/linux/ubuntu jammy-cran40/ InRelease [3,626 B]\n",
            "\u001b[33m\r0% [Waiting for headers] [Waiting for headers] [1 InRelease 0 B/3,626 B 0%] [Co\u001b[0m\u001b[33m\r0% [Waiting for headers] [Waiting for headers] [Connecting to ppa.launchpadcont\u001b[0m\r                                                                               \rGet:2 http://security.ubuntu.com/ubuntu jammy-security InRelease [110 kB]\n",
            "\u001b[33m\r0% [Waiting for headers] [2 InRelease 14.2 kB/110 kB 13%] [Connecting to ppa.la\u001b[0m\r                                                                               \rHit:3 http://archive.ubuntu.com/ubuntu jammy InRelease\n",
            "\u001b[33m\r0% [Waiting for headers] [2 InRelease 14.2 kB/110 kB 13%] [Connecting to ppa.la\u001b[0m\r                                                                               \rHit:4 https://developer.download.nvidia.com/compute/cuda/repos/ubuntu2204/x86_64  InRelease\n",
            "Get:5 http://archive.ubuntu.com/ubuntu jammy-updates InRelease [119 kB]\n",
            "Hit:6 http://archive.ubuntu.com/ubuntu jammy-backports InRelease\n",
            "Get:7 http://archive.ubuntu.com/ubuntu jammy-updates/universe amd64 Packages [1,333 kB]\n",
            "Get:8 https://ppa.launchpadcontent.net/c2d4u.team/c2d4u4.0+/ubuntu jammy InRelease [18.1 kB]\n",
            "Get:9 http://archive.ubuntu.com/ubuntu jammy-updates/main amd64 Packages [1,678 kB]\n",
            "Hit:10 https://ppa.launchpadcontent.net/deadsnakes/ppa/ubuntu jammy InRelease\n",
            "Hit:11 https://ppa.launchpadcontent.net/graphics-drivers/ppa/ubuntu jammy InRelease\n",
            "Hit:12 https://ppa.launchpadcontent.net/ubuntugis/ppa/ubuntu jammy InRelease\n",
            "Get:13 https://ppa.launchpadcontent.net/c2d4u.team/c2d4u4.0+/ubuntu jammy/main Sources [2,268 kB]\n",
            "Get:14 https://ppa.launchpadcontent.net/c2d4u.team/c2d4u4.0+/ubuntu jammy/main amd64 Packages [1,164 kB]\n",
            "Fetched 6,693 kB in 2s (3,289 kB/s)\n",
            "Reading package lists... Done\n",
            "Building dependency tree... Done\n",
            "Reading state information... Done\n",
            "40 packages can be upgraded. Run 'apt list --upgradable' to see them.\n"
          ]
        }
      ]
    },
    {
      "cell_type": "markdown",
      "metadata": {
        "id": "1fv63ddnSOG-"
      },
      "source": [
        "Sau đó, bạn sẽ cần khai báo cho hệ thống các đường dẫn cho các thành phần vừa cài."
      ]
    },
    {
      "cell_type": "code",
      "metadata": {
        "id": "A8gN9Zhx8vPb"
      },
      "source": [
        "import os\n",
        "import findspark\n",
        "\n",
        "os.environ[\"JAVA_HOME\"] = \"/usr/lib/jvm/java-8-openjdk-amd64\"\n",
        "os.environ[\"SPARK_HOME\"] = \"/content/spark-3.5.0-bin-hadoop3\"\n",
        "\n",
        "findspark.init()"
      ],
      "execution_count": 3,
      "outputs": []
    },
    {
      "cell_type": "markdown",
      "metadata": {
        "id": "AM4wpiJMTCib"
      },
      "source": [
        "# Kết nối với Google Drive\n",
        "\n",
        "Để lấy dữ liệu từ các Dataset, bạn sẽ phải lưu file dữ liệu lên Google Drive. Sau đó kết nối Colab đến Google Drive của bạn và lấy được các file dữ liệu."
      ]
    },
    {
      "cell_type": "code",
      "metadata": {
        "colab": {
          "base_uri": "https://localhost:8080/"
        },
        "id": "AoYnrNV7UChX",
        "outputId": "6d8a6774-7617-4514-da84-1057a88f0fd5"
      },
      "source": [
        "from google.colab import drive\n",
        "drive.mount(\"/content/gdrive\")"
      ],
      "execution_count": 4,
      "outputs": [
        {
          "output_type": "stream",
          "name": "stdout",
          "text": [
            "Mounted at /content/gdrive\n"
          ]
        }
      ]
    },
    {
      "cell_type": "markdown",
      "metadata": {
        "id": "t0yzaQQNDKoV"
      },
      "source": [
        "# UDF Demo\n",
        "Bạn sẽ cần khởi tạo 1 SparkSesson để có thể bắt đầu Spark."
      ]
    },
    {
      "cell_type": "code",
      "metadata": {
        "id": "BjqT5XXj80P8"
      },
      "source": [
        "from pyspark import SparkConf\n",
        "import re\n",
        "from pyspark.sql import *\n",
        "from pyspark.sql.functions import *\n",
        "from pyspark.sql.types import *\n",
        "\n",
        "\n",
        "conf = SparkConf() \\\n",
        "    .setMaster('local') \\\n",
        "    .setAppName('UDF Demo')\n",
        "\n",
        "spark = SparkSession.builder.config(conf=conf).getOrCreate()\n",
        "sc = spark.sparkContext\n",
        "\n",
        "DATASET_PATH = '/content/gdrive/My Drive/DEP303/survey.csv'"
      ],
      "execution_count": 5,
      "outputs": []
    },
    {
      "cell_type": "markdown",
      "metadata": {
        "id": "EPY-OTjCCvQQ"
      },
      "source": [
        "Bạn sẽ cần tạo 1 hàm để đồng nhất giá trị cho trường `Gender`, hàm này sẽ chỉ trả về 3 giá trị là `Female`, `Male` và `Unknown`"
      ]
    },
    {
      "cell_type": "code",
      "metadata": {
        "id": "AYt_B9I1Cuxd"
      },
      "source": [
        "def parse_gender(gender):\n",
        "    female_pattern = r\"^f$|f.m|w.m\"\n",
        "    male_pattern = r\"^m$|ma|m.l\"\n",
        "\n",
        "    if re.search(female_pattern, gender.lower()):\n",
        "      return 'Female'\n",
        "    if re.search(male_pattern, gender.lower()):\n",
        "      return 'Male'\n",
        "    return 'Unknown'"
      ],
      "execution_count": 6,
      "outputs": []
    },
    {
      "cell_type": "markdown",
      "metadata": {
        "id": "rJBn-A2WDZM7"
      },
      "source": [
        "Đọc và hiển thị dữ liệu ban đầu"
      ]
    },
    {
      "cell_type": "code",
      "metadata": {
        "colab": {
          "base_uri": "https://localhost:8080/"
        },
        "id": "d3ewTQYCDdX3",
        "outputId": "8025ec22-bee5-4622-8137-0bffd8c51d27"
      },
      "source": [
        "survey_df = spark.read \\\n",
        "  .format(\"csv\") \\\n",
        "  .option(\"header\", \"true\") \\\n",
        "  .option(\"inferSchema\", \"true\") \\\n",
        "  .load(DATASET_PATH)\n",
        "\n",
        "survey_df.show(10)"
      ],
      "execution_count": 7,
      "outputs": [
        {
          "output_type": "stream",
          "name": "stdout",
          "text": [
            "+-------------------+---+------+--------------+-----+-------------+--------------+---------+--------------+--------------+-----------+------------+----------+------------+----------------+----------+----------+------------------+-------------------------+-----------------------+------------+----------+-----------------------+---------------------+------------------+---------------+--------+\n",
            "|          Timestamp|Age|Gender|       Country|state|self_employed|family_history|treatment|work_interfere|  no_employees|remote_work|tech_company|  benefits|care_options|wellness_program| seek_help| anonymity|             leave|mental_health_consequence|phys_health_consequence|   coworkers|supervisor|mental_health_interview|phys_health_interview|mental_vs_physical|obs_consequence|comments|\n",
            "+-------------------+---+------+--------------+-----+-------------+--------------+---------+--------------+--------------+-----------+------------+----------+------------+----------------+----------+----------+------------------+-------------------------+-----------------------+------------+----------+-----------------------+---------------------+------------------+---------------+--------+\n",
            "|2014-08-27 11:29:31| 37|Female| United States|   IL|           NA|            No|      Yes|         Often|          6-25|         No|         Yes|       Yes|    Not sure|              No|       Yes|       Yes|     Somewhat easy|                       No|                     No|Some of them|       Yes|                     No|                Maybe|               Yes|             No|      NA|\n",
            "|2014-08-27 11:29:37| 44|     M| United States|   IN|           NA|            No|       No|        Rarely|More than 1000|         No|          No|Don't know|          No|      Don't know|Don't know|Don't know|        Don't know|                    Maybe|                     No|          No|        No|                     No|                   No|        Don't know|             No|      NA|\n",
            "|2014-08-27 11:29:44| 32|  Male|        Canada|   NA|           NA|            No|       No|        Rarely|          6-25|         No|         Yes|        No|          No|              No|        No|Don't know|Somewhat difficult|                       No|                     No|         Yes|       Yes|                    Yes|                  Yes|                No|             No|      NA|\n",
            "|2014-08-27 11:29:46| 31|  Male|United Kingdom|   NA|           NA|           Yes|      Yes|         Often|        26-100|         No|         Yes|        No|         Yes|              No|        No|        No|Somewhat difficult|                      Yes|                    Yes|Some of them|        No|                  Maybe|                Maybe|                No|            Yes|      NA|\n",
            "|2014-08-27 11:30:22| 31|  Male| United States|   TX|           NA|            No|       No|         Never|       100-500|        Yes|         Yes|       Yes|          No|      Don't know|Don't know|Don't know|        Don't know|                       No|                     No|Some of them|       Yes|                    Yes|                  Yes|        Don't know|             No|      NA|\n",
            "|2014-08-27 11:31:22| 33|  Male| United States|   TN|           NA|           Yes|       No|     Sometimes|          6-25|         No|         Yes|       Yes|    Not sure|              No|Don't know|Don't know|        Don't know|                       No|                     No|         Yes|       Yes|                     No|                Maybe|        Don't know|             No|      NA|\n",
            "|2014-08-27 11:31:50| 35|Female| United States|   MI|           NA|           Yes|      Yes|     Sometimes|           1-5|        Yes|         Yes|        No|          No|              No|        No|        No|Somewhat difficult|                    Maybe|                  Maybe|Some of them|        No|                     No|                   No|        Don't know|             No|      NA|\n",
            "|2014-08-27 11:32:05| 39|     M|        Canada|   NA|           NA|            No|       No|         Never|           1-5|        Yes|         Yes|        No|         Yes|              No|        No|       Yes|        Don't know|                       No|                     No|          No|        No|                     No|                   No|                No|             No|      NA|\n",
            "|2014-08-27 11:32:39| 42|Female| United States|   IL|           NA|           Yes|      Yes|     Sometimes|       100-500|         No|         Yes|       Yes|         Yes|              No|        No|        No|    Very difficult|                    Maybe|                     No|         Yes|       Yes|                     No|                Maybe|                No|             No|      NA|\n",
            "|2014-08-27 11:32:43| 23|  Male|        Canada|   NA|           NA|            No|       No|         Never|        26-100|         No|         Yes|Don't know|          No|      Don't know|Don't know|Don't know|        Don't know|                       No|                     No|         Yes|       Yes|                  Maybe|                Maybe|               Yes|             No|      NA|\n",
            "+-------------------+---+------+--------------+-----+-------------+--------------+---------+--------------+--------------+-----------+------------+----------+------------+----------------+----------+----------+------------------+-------------------------+-----------------------+------------+----------+-----------------------+---------------------+------------------+---------------+--------+\n",
            "only showing top 10 rows\n",
            "\n"
          ]
        }
      ]
    },
    {
      "cell_type": "markdown",
      "metadata": {
        "id": "xfi3Zo-0Dxgy"
      },
      "source": [
        "Sử dụng **Object Expression** để áp dụng UDF cho dữ liệu."
      ]
    },
    {
      "cell_type": "code",
      "metadata": {
        "colab": {
          "base_uri": "https://localhost:8080/"
        },
        "id": "jf6zKoGHDvYr",
        "outputId": "605a30be-2d7c-4640-f9f2-5fe932e10642"
      },
      "source": [
        "parse_gender_udf = udf(parse_gender, StringType())\n",
        "print(\"Catalog Entry:\")\n",
        "[print(r) for r in spark.catalog.listFunctions() if \"parse_gender\" in r.name]\n",
        "\n",
        "survey_df2 = survey_df.withColumn(\"Gender\", parse_gender_udf(\"Gender\"))\n",
        "survey_df2.show(10)"
      ],
      "execution_count": 8,
      "outputs": [
        {
          "output_type": "stream",
          "name": "stdout",
          "text": [
            "Catalog Entry:\n",
            "+-------------------+---+------+--------------+-----+-------------+--------------+---------+--------------+--------------+-----------+------------+----------+------------+----------------+----------+----------+------------------+-------------------------+-----------------------+------------+----------+-----------------------+---------------------+------------------+---------------+--------+\n",
            "|          Timestamp|Age|Gender|       Country|state|self_employed|family_history|treatment|work_interfere|  no_employees|remote_work|tech_company|  benefits|care_options|wellness_program| seek_help| anonymity|             leave|mental_health_consequence|phys_health_consequence|   coworkers|supervisor|mental_health_interview|phys_health_interview|mental_vs_physical|obs_consequence|comments|\n",
            "+-------------------+---+------+--------------+-----+-------------+--------------+---------+--------------+--------------+-----------+------------+----------+------------+----------------+----------+----------+------------------+-------------------------+-----------------------+------------+----------+-----------------------+---------------------+------------------+---------------+--------+\n",
            "|2014-08-27 11:29:31| 37|Female| United States|   IL|           NA|            No|      Yes|         Often|          6-25|         No|         Yes|       Yes|    Not sure|              No|       Yes|       Yes|     Somewhat easy|                       No|                     No|Some of them|       Yes|                     No|                Maybe|               Yes|             No|      NA|\n",
            "|2014-08-27 11:29:37| 44|  Male| United States|   IN|           NA|            No|       No|        Rarely|More than 1000|         No|          No|Don't know|          No|      Don't know|Don't know|Don't know|        Don't know|                    Maybe|                     No|          No|        No|                     No|                   No|        Don't know|             No|      NA|\n",
            "|2014-08-27 11:29:44| 32|  Male|        Canada|   NA|           NA|            No|       No|        Rarely|          6-25|         No|         Yes|        No|          No|              No|        No|Don't know|Somewhat difficult|                       No|                     No|         Yes|       Yes|                    Yes|                  Yes|                No|             No|      NA|\n",
            "|2014-08-27 11:29:46| 31|  Male|United Kingdom|   NA|           NA|           Yes|      Yes|         Often|        26-100|         No|         Yes|        No|         Yes|              No|        No|        No|Somewhat difficult|                      Yes|                    Yes|Some of them|        No|                  Maybe|                Maybe|                No|            Yes|      NA|\n",
            "|2014-08-27 11:30:22| 31|  Male| United States|   TX|           NA|            No|       No|         Never|       100-500|        Yes|         Yes|       Yes|          No|      Don't know|Don't know|Don't know|        Don't know|                       No|                     No|Some of them|       Yes|                    Yes|                  Yes|        Don't know|             No|      NA|\n",
            "|2014-08-27 11:31:22| 33|  Male| United States|   TN|           NA|           Yes|       No|     Sometimes|          6-25|         No|         Yes|       Yes|    Not sure|              No|Don't know|Don't know|        Don't know|                       No|                     No|         Yes|       Yes|                     No|                Maybe|        Don't know|             No|      NA|\n",
            "|2014-08-27 11:31:50| 35|Female| United States|   MI|           NA|           Yes|      Yes|     Sometimes|           1-5|        Yes|         Yes|        No|          No|              No|        No|        No|Somewhat difficult|                    Maybe|                  Maybe|Some of them|        No|                     No|                   No|        Don't know|             No|      NA|\n",
            "|2014-08-27 11:32:05| 39|  Male|        Canada|   NA|           NA|            No|       No|         Never|           1-5|        Yes|         Yes|        No|         Yes|              No|        No|       Yes|        Don't know|                       No|                     No|          No|        No|                     No|                   No|                No|             No|      NA|\n",
            "|2014-08-27 11:32:39| 42|Female| United States|   IL|           NA|           Yes|      Yes|     Sometimes|       100-500|         No|         Yes|       Yes|         Yes|              No|        No|        No|    Very difficult|                    Maybe|                     No|         Yes|       Yes|                     No|                Maybe|                No|             No|      NA|\n",
            "|2014-08-27 11:32:43| 23|  Male|        Canada|   NA|           NA|            No|       No|         Never|        26-100|         No|         Yes|Don't know|          No|      Don't know|Don't know|Don't know|        Don't know|                       No|                     No|         Yes|       Yes|                  Maybe|                Maybe|               Yes|             No|      NA|\n",
            "+-------------------+---+------+--------------+-----+-------------+--------------+---------+--------------+--------------+-----------+------------+----------+------------+----------------+----------+----------+------------------+-------------------------+-----------------------+------------+----------+-----------------------+---------------------+------------------+---------------+--------+\n",
            "only showing top 10 rows\n",
            "\n"
          ]
        }
      ]
    },
    {
      "cell_type": "markdown",
      "metadata": {
        "id": "epKru5R7EK-P"
      },
      "source": [
        "Sử dụng **String Expression** để áp dụng UDF cho dữ liệu"
      ]
    },
    {
      "cell_type": "code",
      "metadata": {
        "colab": {
          "base_uri": "https://localhost:8080/"
        },
        "id": "uO-rqgfEwYVd",
        "outputId": "1fb6101e-309d-40f3-c1fc-d4c352ad04c0"
      },
      "source": [
        "spark.udf.register(\"parse_gender_udf\", parse_gender, StringType())\n",
        "print(\"Catalog Entry:\")\n",
        "[print(r) for r in spark.catalog.listFunctions() if \"parse_gender\" in r.name]\n",
        "\n",
        "survey_df3 = survey_df.withColumn(\"Gender\", expr(\"parse_gender_udf(Gender)\"))\n",
        "survey_df3.show(10)"
      ],
      "execution_count": 12,
      "outputs": [
        {
          "output_type": "stream",
          "name": "stdout",
          "text": [
            "Catalog Entry:\n",
            "Function(name='parse_gender_udf', catalog=None, namespace=None, description='N/A.', className='org.apache.spark.sql.UDFRegistration$$Lambda$3356/891628015', isTemporary=True)\n",
            "+-------------------+---+------+--------------+-----+-------------+--------------+---------+--------------+--------------+-----------+------------+----------+------------+----------------+----------+----------+------------------+-------------------------+-----------------------+------------+----------+-----------------------+---------------------+------------------+---------------+--------+\n",
            "|          Timestamp|Age|Gender|       Country|state|self_employed|family_history|treatment|work_interfere|  no_employees|remote_work|tech_company|  benefits|care_options|wellness_program| seek_help| anonymity|             leave|mental_health_consequence|phys_health_consequence|   coworkers|supervisor|mental_health_interview|phys_health_interview|mental_vs_physical|obs_consequence|comments|\n",
            "+-------------------+---+------+--------------+-----+-------------+--------------+---------+--------------+--------------+-----------+------------+----------+------------+----------------+----------+----------+------------------+-------------------------+-----------------------+------------+----------+-----------------------+---------------------+------------------+---------------+--------+\n",
            "|2014-08-27 11:29:31| 37|Female| United States|   IL|           NA|            No|      Yes|         Often|          6-25|         No|         Yes|       Yes|    Not sure|              No|       Yes|       Yes|     Somewhat easy|                       No|                     No|Some of them|       Yes|                     No|                Maybe|               Yes|             No|      NA|\n",
            "|2014-08-27 11:29:37| 44|  Male| United States|   IN|           NA|            No|       No|        Rarely|More than 1000|         No|          No|Don't know|          No|      Don't know|Don't know|Don't know|        Don't know|                    Maybe|                     No|          No|        No|                     No|                   No|        Don't know|             No|      NA|\n",
            "|2014-08-27 11:29:44| 32|  Male|        Canada|   NA|           NA|            No|       No|        Rarely|          6-25|         No|         Yes|        No|          No|              No|        No|Don't know|Somewhat difficult|                       No|                     No|         Yes|       Yes|                    Yes|                  Yes|                No|             No|      NA|\n",
            "|2014-08-27 11:29:46| 31|  Male|United Kingdom|   NA|           NA|           Yes|      Yes|         Often|        26-100|         No|         Yes|        No|         Yes|              No|        No|        No|Somewhat difficult|                      Yes|                    Yes|Some of them|        No|                  Maybe|                Maybe|                No|            Yes|      NA|\n",
            "|2014-08-27 11:30:22| 31|  Male| United States|   TX|           NA|            No|       No|         Never|       100-500|        Yes|         Yes|       Yes|          No|      Don't know|Don't know|Don't know|        Don't know|                       No|                     No|Some of them|       Yes|                    Yes|                  Yes|        Don't know|             No|      NA|\n",
            "|2014-08-27 11:31:22| 33|  Male| United States|   TN|           NA|           Yes|       No|     Sometimes|          6-25|         No|         Yes|       Yes|    Not sure|              No|Don't know|Don't know|        Don't know|                       No|                     No|         Yes|       Yes|                     No|                Maybe|        Don't know|             No|      NA|\n",
            "|2014-08-27 11:31:50| 35|Female| United States|   MI|           NA|           Yes|      Yes|     Sometimes|           1-5|        Yes|         Yes|        No|          No|              No|        No|        No|Somewhat difficult|                    Maybe|                  Maybe|Some of them|        No|                     No|                   No|        Don't know|             No|      NA|\n",
            "|2014-08-27 11:32:05| 39|  Male|        Canada|   NA|           NA|            No|       No|         Never|           1-5|        Yes|         Yes|        No|         Yes|              No|        No|       Yes|        Don't know|                       No|                     No|          No|        No|                     No|                   No|                No|             No|      NA|\n",
            "|2014-08-27 11:32:39| 42|Female| United States|   IL|           NA|           Yes|      Yes|     Sometimes|       100-500|         No|         Yes|       Yes|         Yes|              No|        No|        No|    Very difficult|                    Maybe|                     No|         Yes|       Yes|                     No|                Maybe|                No|             No|      NA|\n",
            "|2014-08-27 11:32:43| 23|  Male|        Canada|   NA|           NA|            No|       No|         Never|        26-100|         No|         Yes|Don't know|          No|      Don't know|Don't know|Don't know|        Don't know|                       No|                     No|         Yes|       Yes|                  Maybe|                Maybe|               Yes|             No|      NA|\n",
            "+-------------------+---+------+--------------+-----+-------------+--------------+---------+--------------+--------------+-----------+------------+----------+------------+----------------+----------+----------+------------------+-------------------------+-----------------------+------------+----------+-----------------------+---------------------+------------------+---------------+--------+\n",
            "only showing top 10 rows\n",
            "\n"
          ]
        }
      ]
    }
  ]
}