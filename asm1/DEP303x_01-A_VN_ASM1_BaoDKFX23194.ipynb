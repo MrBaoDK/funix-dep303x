{
 "cells": [
  {
   "cell_type": "markdown",
   "metadata": {},
   "source": [
    "### Import datasets\n",
    "- Question dataset\n",
    "\n",
    "`mongoimport --type csv -d ASM1_dev -c Questions --headerline --drop Questions.csv`\n",
    "\n",
    "- Answer dataset\n",
    "\n",
    "`mongoimport --type csv -d ASM1_dev -c Answers --headerline --drop Answers.csv`"
   ]
  },
  {
   "cell_type": "markdown",
   "metadata": {},
   "source": [
    "### Import thư viện cần thiết"
   ]
  },
  {
   "cell_type": "code",
   "execution_count": 1,
   "metadata": {},
   "outputs": [],
   "source": [
    "from pyspark.sql import SparkSession, Window\n",
    "from pyspark.sql.types import StructType, StructField, StringType, IntegerType\n",
    "from pyspark.sql.functions import expr, explode, desc, count, sum, col, date_format, to_date"
   ]
  },
  {
   "cell_type": "markdown",
   "metadata": {},
   "source": [
    "### Khởi tạo Spark Session"
   ]
  },
  {
   "cell_type": "code",
   "execution_count": 2,
   "metadata": {},
   "outputs": [
    {
     "name": "stderr",
     "output_type": "stream",
     "text": [
      "24/03/14 22:07:25 WARN Utils: Your hostname, VNHCM1QANB017 resolves to a loopback address: 127.0.1.1; using 172.31.49.251 instead (on interface eth0)\n",
      "24/03/14 22:07:25 WARN Utils: Set SPARK_LOCAL_IP if you need to bind to another address\n"
     ]
    },
    {
     "name": "stdout",
     "output_type": "stream",
     "text": [
      ":: loading settings :: url = jar:file:/home/baodk/Programs/spark-3.5.1-bin-hadoop3/jars/ivy-2.5.1.jar!/org/apache/ivy/core/settings/ivysettings.xml\n"
     ]
    },
    {
     "name": "stderr",
     "output_type": "stream",
     "text": [
      "Ivy Default Cache set to: /home/baodk/.ivy2/cache\n",
      "The jars for the packages stored in: /home/baodk/.ivy2/jars\n",
      "org.mongodb.spark#mongo-spark-connector_2.12 added as a dependency\n",
      ":: resolving dependencies :: org.apache.spark#spark-submit-parent-3a79a479-d88d-4e9b-a0d2-baa633425079;1.0\n",
      "\tconfs: [default]\n",
      "\tfound org.mongodb.spark#mongo-spark-connector_2.12;3.0.1 in central\n",
      "\tfound org.mongodb#mongodb-driver-sync;4.0.5 in central\n",
      "\tfound org.mongodb#bson;4.0.5 in central\n",
      "\tfound org.mongodb#mongodb-driver-core;4.0.5 in central\n",
      ":: resolution report :: resolve 166ms :: artifacts dl 9ms\n",
      "\t:: modules in use:\n",
      "\torg.mongodb#bson;4.0.5 from central in [default]\n",
      "\torg.mongodb#mongodb-driver-core;4.0.5 from central in [default]\n",
      "\torg.mongodb#mongodb-driver-sync;4.0.5 from central in [default]\n",
      "\torg.mongodb.spark#mongo-spark-connector_2.12;3.0.1 from central in [default]\n",
      "\t---------------------------------------------------------------------\n",
      "\t|                  |            modules            ||   artifacts   |\n",
      "\t|       conf       | number| search|dwnlded|evicted|| number|dwnlded|\n",
      "\t---------------------------------------------------------------------\n",
      "\t|      default     |   4   |   0   |   0   |   0   ||   4   |   0   |\n",
      "\t---------------------------------------------------------------------\n",
      ":: retrieving :: org.apache.spark#spark-submit-parent-3a79a479-d88d-4e9b-a0d2-baa633425079\n",
      "\tconfs: [default]\n",
      "\t0 artifacts copied, 4 already retrieved (0kB/5ms)\n",
      "24/03/14 22:07:26 WARN NativeCodeLoader: Unable to load native-hadoop library for your platform... using builtin-java classes where applicable\n",
      "Setting default log level to \"WARN\".\n",
      "To adjust logging level use sc.setLogLevel(newLevel). For SparkR, use setLogLevel(newLevel).\n"
     ]
    }
   ],
   "source": [
    "# địa chỉ ip của mongodb\n",
    "mongo_host = '172.31.48.1'\n",
    "\n",
    "spark = SparkSession \\\n",
    "  .builder \\\n",
    "  .master(\"local\") \\\n",
    "  .appName(\"MyAssessment1\") \\\n",
    "  .config(\"spark.jars.packages\", \"org.mongodb.spark:mongo-spark-connector_2.12:3.0.1\") \\\n",
    "  .config(\"spark.mongodb.input.uri\", f\"mongodb://{mongo_host}:27017/ASM1_dev\") \\\n",
    "  .config(\"spark.mongodb.output.uri\", f\"mongodb://{mongo_host}:27017/ASM1_dev\") \\\n",
    "  .getOrCreate()"
   ]
  },
  {
   "cell_type": "markdown",
   "metadata": {},
   "source": [
    "### Schema cho input\n",
    "\n",
    "```cs\n",
    "Question\n",
    " |-- Id: integer (nullable = true)\n",
    " |-- OwnerUserId: integer (nullable = true)\n",
    " |-- CreationDate: date (nullable = true)\n",
    " |-- ClosedDate: date (nullable = true)\n",
    " |-- Score: integer (nullable = true)\n",
    " |-- Title: string (nullable = true)\n",
    " |-- Body: string (nullable = true)\n",
    "```\n",
    "\n",
    "```cs\n",
    "Answer\n",
    " |-- Body: string (nullable = true)\n",
    " |-- CreationDate: date (nullable = true)\n",
    " |-- Id: integer (nullable = true)\n",
    " |-- OwnerUserId: integer (nullable = true)\n",
    " |-- ParentId: integer (nullable = true)\n",
    " |-- Score: integer (nullable = true)\n",
    " ```"
   ]
  },
  {
   "cell_type": "code",
   "execution_count": 3,
   "metadata": {},
   "outputs": [],
   "source": [
    "question_schema = StructType([\n",
    "  StructField(\"Id\", IntegerType()),\n",
    "  StructField(\"OwnerUserId\", StringType()),\n",
    "  StructField(\"CreationDate\", StringType()),\n",
    "  StructField(\"ClosedDate\", StringType()),\n",
    "  StructField(\"Score\", IntegerType()),\n",
    "  StructField(\"Title\", StringType()),\n",
    "  StructField(\"Body\", StringType())\n",
    "])\n",
    "\n",
    "answer_schema = StructType([\n",
    "  StructField(\"Id\", IntegerType()),\n",
    "  StructField(\"OwnerUserId\", StringType()),\n",
    "  StructField(\"CreationDate\", StringType()),\n",
    "  StructField(\"ClosedDate\", StringType()),\n",
    "  StructField(\"Score\", IntegerType()),\n",
    "  StructField(\"ParentId\", IntegerType()),\n",
    "  StructField(\"Body\", StringType())\n",
    "])\n"
   ]
  },
  {
   "cell_type": "markdown",
   "metadata": {},
   "source": [
    "### Đọc dữ liệu"
   ]
  },
  {
   "cell_type": "code",
   "execution_count": 4,
   "metadata": {},
   "outputs": [],
   "source": [
    "# Import dữ liệu từ 2 collection Questions và Answers\n",
    "questions_df = spark.read \\\n",
    "    .format(\"mongo\") \\\n",
    "    .option(\"collection\", \"Questions\") \\\n",
    "    .schema(question_schema) \\\n",
    "    .load()\n",
    "\n",
    "answers_df = spark.read \\\n",
    "    .format(\"mongo\") \\\n",
    "    .option(\"collection\", \"Answers\") \\\n",
    "    .schema(answer_schema) \\\n",
    "    .load()"
   ]
  },
  {
   "cell_type": "code",
   "execution_count": 5,
   "metadata": {},
   "outputs": [],
   "source": [
    "# Chuẩn hóa dạng dữ liệu do chứa giá trị 'NA'\n",
    "questions_df = questions_df \\\n",
    "    .withColumn(\"OwnerUserId\", expr(\"CASE WHEN OwnerUserId=='NA' THEN NULL ELSE OwnerUserId END\").cast(\"int\")) \\\n",
    "    .withColumn(\"CreationDate\", expr(\"CASE WHEN CreationDate=='NA' THEN NULL ELSE CreationDate END\").cast(\"timestamp\")) \\\n",
    "    .withColumn(\"ClosedDate\", expr(\"CASE WHEN ClosedDate=='NA' THEN NULL ELSE ClosedDate END\").cast(\"timestamp\"))\n",
    "\n",
    "answers_df = answers_df \\\n",
    "    .withColumn(\"OwnerUserId\", expr(\"CASE WHEN OwnerUserId=='NA' THEN NULL ELSE OwnerUserId END\").cast(\"int\")) \\\n",
    "    .withColumn(\"CreationDate\", expr(\"CASE WHEN CreationDate=='NA' THEN NULL ELSE CreationDate END\").cast(\"timestamp\")) \\\n",
    "    .withColumn(\"ClosedDate\", expr(\"CASE WHEN ClosedDate=='NA' THEN NULL ELSE ClosedDate END\").cast(\"timestamp\"))"
   ]
  },
  {
   "cell_type": "markdown",
   "metadata": {},
   "source": [
    "### Yêu cầu 1: Tính số lần xuất hiện của các ngôn ngữ lập trình\n",
    "\n",
    "Với yêu cầu này, bạn sẽ cần đếm số lần mà các ngôn ngữ lập trình xuất hiện trong nội dung của các câu hỏi. Các ngôn ngữ lập trình cần kiểm tra là:\n",
    "\n",
    "`Java, Python, C++, C#, Go, Ruby, Javascript, PHP, HTML, CSS, SQL`\n",
    "\n",
    "Để hoàn thành yêu cầu này, bạn có thể sử dụng regex để trích xuất các ngôn ngữ lập trình đã xuất hiện trong từng câu hỏi. Sau đó sử dụng các phép Aggregation để tính tổng theo từng ngôn ngữ.\n",
    "```cs\n",
    "+-------------------+------+                                                    \n",
    "|Programing Language| Count|\n",
    "+-------------------+------+\n",
    "|                 C#| 32414|\n",
    "|                C++| 28866|\n",
    "|                CSS| 33556|\n",
    "|               HTML| 89646|\n",
    "|                PHP| 63479|\n",
    "|                SQL|146094|\n",
    "|                 Go| 79912|\n",
    "|               Ruby| 16318|\n",
    "|             Python| 44817|\n",
    "|               Java|106659|\n",
    "+-------------------+------+\n",
    "```"
   ]
  },
  {
   "cell_type": "code",
   "execution_count": 6,
   "metadata": {},
   "outputs": [
    {
     "name": "stderr",
     "output_type": "stream",
     "text": [
      "[Stage 0:=======================================================> (31 + 1) / 32]\r"
     ]
    },
    {
     "name": "stdout",
     "output_type": "stream",
     "text": [
      "+-------------------+------+\n",
      "|Programing Language| Count|\n",
      "+-------------------+------+\n",
      "|                 C#| 32414|\n",
      "|                C++| 28866|\n",
      "|                CSS| 33556|\n",
      "|               HTML| 89646|\n",
      "|                PHP| 63479|\n",
      "|                SQL|146094|\n",
      "|                 Go| 79912|\n",
      "|               Ruby| 16318|\n",
      "|             Python| 44817|\n",
      "|               Java|106659|\n",
      "+-------------------+------+\n",
      "\n"
     ]
    },
    {
     "name": "stderr",
     "output_type": "stream",
     "text": [
      "                                                                                \r"
     ]
    }
   ],
   "source": [
    "# Sau nhiều lần sửa lỗi thì regexp_extract_all chỉ dùng được trong expr với pattern có 2 dấu ' bao trùm\n",
    "pattern1 = r\"(Java|Python|C\\\\+\\\\+|C#|Go|Ruby|Javascript|PHP|HTML|CSS|SQL)\"\n",
    "\n",
    "# Hướng đi: Extract tất cả cụm từ trong nội dung Body được nêu ở đề bài thành dạng mảng, \n",
    "# sau đó explode ra thành hàng để count số lần xuất hiện của nó\n",
    "questions_df.select(\"Body\") \\\n",
    "    .withColumn(\"body_extract\", expr(f\"regexp_extract_all(Body, '{pattern1}')\")) \\\n",
    "    .withColumn(\"Programing Language\", explode(\"body_extract\")) \\\n",
    "    .groupBy(\"Programing Language\").agg(count(\"*\").alias(\"Count\")) \\\n",
    "    .show()"
   ]
  },
  {
   "cell_type": "markdown",
   "metadata": {},
   "source": [
    "### Yêu cầu 2 : Tìm các domain được sử dụng nhiều nhất trong các câu hỏi\n",
    "\n",
    "Trong các câu hỏi thường chúng ta sẽ dẫn link từ các trang web khác vào. Ở yêu cầu này, bạn sẽ cần tìm xem 20 domain nào được người dùng sử dụng nhiều nhất. Chú ý rằng các domain sẽ chỉ gồm tên domain, các bạn sẽ không cần trích xuất những tham số phía sau. Ví dụ về một domain: www.google.com, www.facebook.com,...\n",
    "\n",
    "Để hoàn thành được yêu cầu này, bạn có thể sử dụng regex để trích xuất các url, sau đó áp dung một số biện pháp xử lý chuỗi để lấy ra được tên của domain, cuối cùng là dùng Aggregation để gộp nhóm lại. Kết quả sẽ như sau:\n",
    "```cs\n",
    "+--------------------+-----+                                                    \n",
    "|              Domain|Count|\n",
    "+--------------------+-----+\n",
    "|   www.cs.bham.ac.uk|    4|\n",
    "|groups.csail.mit.edu|    7|\n",
    "|     fiddlertool.com|    1|\n",
    "|   www.dynagraph.org|    1|\n",
    "| images.mydomain.com|    1|\n",
    "|  img7.imageshack.us|    3|\n",
    "+--------------------+-----+\n",
    "```"
   ]
  },
  {
   "cell_type": "code",
   "execution_count": 7,
   "metadata": {
    "scrolled": true
   },
   "outputs": [
    {
     "name": "stderr",
     "output_type": "stream",
     "text": [
      "[Stage 3:=====================================================>   (30 + 1) / 32]\r"
     ]
    },
    {
     "name": "stdout",
     "output_type": "stream",
     "text": [
      "+--------------------+-----+\n",
      "|              Domain|Count|\n",
      "+--------------------+-----+\n",
      "|   stackoverflow.com|58694|\n",
      "|          github.com|35921|\n",
      "|        jsfiddle.net|35371|\n",
      "|          www.w3.org|18154|\n",
      "| schemas.android.com|15781|\n",
      "|www.springframewo...|12649|\n",
      "|  msdn.microsoft.com| 9045|\n",
      "|schemas.microsoft...| 5687|\n",
      "|        java.sun.com| 5685|\n",
      "|    en.wikipedia.org| 5521|\n",
      "|        pastebin.com| 5502|\n",
      "| ajax.googleapis.com| 5394|\n",
      "|         example.com| 4651|\n",
      "|     code.google.com| 4412|\n",
      "|developers.google...| 3870|\n",
      "|developer.android...| 3775|\n",
      "|     www.youtube.com| 3540|\n",
      "|     www.example.com| 3120|\n",
      "|    maven.apache.org| 3028|\n",
      "|            plnkr.co| 2995|\n",
      "+--------------------+-----+\n",
      "only showing top 20 rows\n",
      "\n"
     ]
    },
    {
     "name": "stderr",
     "output_type": "stream",
     "text": [
      "                                                                                \r"
     ]
    }
   ],
   "source": [
    "# pattern kiểm tra :// ở đầu và / ở cuối sau đó check các chữ có ngăn cách nhau bởi dấu chấm\n",
    "pattern2 = r\"\\\\b((?<=\\\\://)([a-z0-9]{2,}\\\\.)+([a-z]{2,}))(?=/)\\\\b\"\n",
    "\n",
    "# hướng đi giống yêu cầu 1, nhưng chỉ lấy group 1 là group bao trùm cả cụm domain\n",
    "questions_df.select(\"Body\").withColumn(\"ExtractBody\", expr(f\"regexp_extract_all(Body, '{pattern2}', 1)\")) \\\n",
    "    .withColumn(\"Domain\", explode(\"ExtractBody\")) \\\n",
    "    .groupBy(\"Domain\") \\\n",
    "    .agg(count(\"*\").alias(\"Count\")) \\\n",
    "    .sort(desc(\"Count\")) \\\n",
    "    .show()"
   ]
  },
  {
   "cell_type": "markdown",
   "metadata": {},
   "source": [
    "### Yêu cầu 3 : Tính tổng điểm của User theo từng ngày\n",
    "\n",
    "Bạn cần biết được xem đến ngày nào đó thì User đạt được bao nhiêu điểm. Ví dụ với dữ liệu như sau:\n",
    "```cs\n",
    "+-----------+------------+-----+\n",
    "|OwnerUserId|CreationDate|Score|\n",
    "+-----------+------------+-----+\n",
    "|         26|  2008-08-01|   26|\n",
    "|         26|  2008-08-01|  144|\n",
    "|         83|  2008-08-01|   21|\n",
    "|    \t  83|  2008-08-02|   53|\n",
    "|         26|  2008-08-02|   29|\n",
    "+-----------+------------+-----+\n",
    "```\n",
    "Thì bạn sẽ có được kết quả:\n",
    "```cs\n",
    "+-----------+------------+----------+\n",
    "|OwnerUserId|CreationDate|TotalScore|\n",
    "+-----------+------------+----------+\n",
    "|         26|  2008-08-01|       170|\n",
    "|         26|  2008-08-02|       199|\n",
    "|         83|  2008-08-01|        21|\n",
    "|         83|  2008-08-02|        74|\n",
    "+-----------+------------+----------+\n",
    "```\n",
    "Để hoàn thành yêu cầu này, bạn sẽ cần sử dụng các thao tác **Windowing** và các thao tác **Aggregation**, bạn có thể tham khảo bài Bài 9 : Data Aggregations và Join trên Spark. Kết quả sẽ cần được sắp xếp theo trường **OwnerUserId** và **CreationDate**."
   ]
  },
  {
   "cell_type": "code",
   "execution_count": 8,
   "metadata": {},
   "outputs": [
    {
     "name": "stderr",
     "output_type": "stream",
     "text": [
      "[Stage 8:>                                                          (0 + 1) / 1]\r"
     ]
    },
    {
     "name": "stdout",
     "output_type": "stream",
     "text": [
      "+-----------+------------+----------+\n",
      "|OwnerUserId|CreationDate|TotalScore|\n",
      "+-----------+------------+----------+\n",
      "|          1|  2008-11-26|        10|\n",
      "|          1|  2009-01-08|        30|\n",
      "|          1|  2009-10-08|        58|\n",
      "|          4|  2009-01-01|         4|\n",
      "|          4|  2009-02-14|        13|\n",
      "|          4|  2010-07-02|        79|\n",
      "|          5|  2008-12-29|         0|\n",
      "|          5|  2009-04-09|        12|\n",
      "|          5|  2011-03-29|        23|\n",
      "|          5|  2011-04-06|        25|\n",
      "|          9|  2012-01-20|         2|\n",
      "|         17|  2008-08-06|        14|\n",
      "|         17|  2010-09-05|        15|\n",
      "|         17|  2011-01-27|        15|\n",
      "|         20|  2010-09-22|         2|\n",
      "|         20|  2011-04-22|         4|\n",
      "|         20|  2011-05-20|         7|\n",
      "|         20|  2013-08-03|         7|\n",
      "|         22|  2012-04-27|         1|\n",
      "|         23|  2008-12-17|        27|\n",
      "+-----------+------------+----------+\n",
      "only showing top 20 rows\n",
      "\n"
     ]
    },
    {
     "name": "stderr",
     "output_type": "stream",
     "text": [
      "                                                                                \r"
     ]
    }
   ],
   "source": [
    "# chia khung dữ liệu theo \"OwnerUserId\" và được sắp xếp theo \"CreationDate\"\n",
    "# Window được tính từ hàng đầu tiên đến hàng hiện tại (Running on total)\n",
    "running_totalscore_window = Window.partitionBy(\"OwnerUserId\") \\\n",
    "    .orderBy(\"OwnerUserId\", \"CreationDate\") \\\n",
    "    .rowsBetween(Window.unboundedPreceding, Window.currentRow)\n",
    "\n",
    "# Loại bỏ các user bị NA, cột CreationDate được định dạng date để phù hợp với yêu cầu tính tổng theo ngày\n",
    "valid_user_score_df = questions_df.dropna(subset=[\"OwnerUserId\"]) \\\n",
    "    .select(\"OwnerUserId\", col(\"CreationDate\").cast(\"date\"), \"Score\")\n",
    "\n",
    "# Bắt đầu tính tổng cột score theo Window đã định nghĩa ở trên\n",
    "score_per_day_df = valid_user_score_df.withColumn(\"TotalScore\", sum(\"Score\").over(running_totalscore_window))\n",
    "score_per_day_df \\\n",
    "    .select(\"OwnerUserId\", \"CreationDate\", \"TotalScore\") \\\n",
    "    .orderBy(\"OwnerUserId\", \"CreationDate\") \\\n",
    "    .show()"
   ]
  },
  {
   "cell_type": "markdown",
   "metadata": {},
   "source": [
    "### Yêu cầu 4: Tính tổng số điểm mà User đạt được trong một khoảng thời gian\n",
    "\n",
    "Ở yêu cầu này, bạn sẽ cần tính tổng điểm mà User đạt được khi đặt câu hỏi trong một khoảng thời gian. Ví dụ như bạn muốn tính xem từ ngày 01-01-2008 đến 01-01-2009 thì các user đạt được bao nhiêu điểm từ việc đặt câu hỏi. Các khoảng thời gian này sẽ được khai báo trực tiếp trong code, ví dụ như sau:\n",
    "\n",
    "```python\n",
    "START = '01-01-2008'\n",
    "END = '01-01-2009'\n",
    "\n",
    "if __name__ == '__main__':\n",
    "    pass\n",
    "```\n",
    "Để hoàn thành yêu cầu này, bạn sẽ cần sử dụng filter() để lọc ra các dữ liệu thỏa mãn từ khung dữ liệu, sau đó có thể làm theo yêu cầu 4. Kết quả sẽ cần được sắp xếp theo trường OwnerUserId, ví dụ:\n",
    "```cs\n",
    "+-----------+----------+\n",
    "|OwnerUserId|TotalScore|\n",
    "+-----------+----------+\n",
    "|       1580|         5|\n",
    "|       4101|        11|\n",
    "|      18051|         2|\n",
    "|      18866|         6|\n",
    "|    2376109|         5|\n",
    "+-----------+----------+\n",
    "```"
   ]
  },
  {
   "cell_type": "code",
   "execution_count": 9,
   "metadata": {},
   "outputs": [
    {
     "name": "stderr",
     "output_type": "stream",
     "text": [
      "[Stage 9:=====================================================>   (30 + 1) / 32]\r"
     ]
    },
    {
     "name": "stdout",
     "output_type": "stream",
     "text": [
      "+-----------+----------+\n",
      "|OwnerUserId|TotalScore|\n",
      "+-----------+----------+\n",
      "|       NULL|      4636|\n",
      "|          1|        10|\n",
      "|          5|         0|\n",
      "|         17|        14|\n",
      "|         23|        27|\n",
      "|         25|        10|\n",
      "|         26|        34|\n",
      "|         27|         9|\n",
      "|         29|       206|\n",
      "|         33|       222|\n",
      "|         35|        25|\n",
      "|         39|        16|\n",
      "|         40|         7|\n",
      "|         41|        16|\n",
      "|         45|        12|\n",
      "|         49|        22|\n",
      "|         51|        30|\n",
      "|         56|        28|\n",
      "|         58|       171|\n",
      "|         60|        22|\n",
      "+-----------+----------+\n",
      "only showing top 20 rows\n",
      "\n"
     ]
    },
    {
     "name": "stderr",
     "output_type": "stream",
     "text": [
      "                                                                                \r"
     ]
    }
   ],
   "source": [
    "START = '01-01-2008'\n",
    "END = '01-01-2009'\n",
    "\n",
    "# lỗi trên spark 3.5.1 nên dùng filter expression cùng với 2 dấu '' bao trùm\n",
    "questions_df \\\n",
    "    .filter(f\"CreationDate >= to_date('{START}', 'dd-MM-yyyy') AND CreationDate <= to_date('{END}', 'dd-MM-yyyy') \") \\\n",
    "    .groupBy(\"OwnerUserId\").agg(sum(\"Score\").alias(\"TotalScore\")) \\\n",
    "    .sort(\"OwnerUserId\") \\\n",
    "    .show()"
   ]
  },
  {
   "cell_type": "markdown",
   "metadata": {},
   "source": [
    "### Yêu cầu 5: Tìm các câu hỏi có nhiều câu trả lời\n",
    "\n",
    "Một câu hỏi tốt sẽ được tính số lượng câu trả lời của câu hỏi đó, nếu như câu hỏi có nhiều hơn 5 câu trả lời thì sẽ được tính là tốt. Bạn sẽ cần tìm xem có bao nhiêu câu hỏi đang được tính là tốt,  \n",
    "\n",
    "Để hoàn thành yêu cầu này, bạn sẽ cần sử dụng các thao tác Join để gộp dữ liệu từ **Answers** với **Collections**, sau đó dụng các thao tác **Aggregation** để gộp nhóm, tính xem mỗi câu hỏi đã có bao nhiêu câu trả lời. Cuối cùng là dùng hàm **filter()** để lọc ra các câu hỏi có nhiều hơn 5 câu trả lời. \n",
    "\n",
    "Lưu ý: Do thao tác có thể tốn rất nhiều thời gian, nên bạn hãy sử dụng cơ chế Bucket Join để phân vùng cho các dữ liệu trước. Bạn có thể tham khảo Bài 9 : Data Aggregations và Join để hiểu rõ hơn về cơ chế này.\n",
    "\n",
    "Kết quả sẽ cần được sắp xếp theo ID của các câu hỏi"
   ]
  },
  {
   "cell_type": "code",
   "execution_count": 10,
   "metadata": {},
   "outputs": [
    {
     "name": "stderr",
     "output_type": "stream",
     "text": [
      "                                                                                \r"
     ]
    },
    {
     "name": "stdout",
     "output_type": "stream",
     "text": [
      "+----+-----------+-------------------+-------------------+-----+--------------------+--------------------+-------+\n",
      "|  Id|OwnerUserId|       CreationDate|         ClosedDate|Score|               Title|                Body|Answers|\n",
      "+----+-----------+-------------------+-------------------+-----+--------------------+--------------------+-------+\n",
      "| 180|    2089740|2008-08-02 01:42:19|               NULL|   53|Function for crea...|<p>This is someth...|      9|\n",
      "| 260|         91|2008-08-02 06:22:08|               NULL|   49|Adding scripting ...|<p>I have a littl...|      9|\n",
      "| 330|         63|2008-08-02 09:51:36|               NULL|   29|Should I use nest...|<p>I am working o...|     10|\n",
      "| 580|         91|2008-08-03 06:30:59|               NULL|   21|Deploying SQL Ser...|<p>I wonder how y...|     14|\n",
      "| 650|        143|2008-08-03 18:12:52|               NULL|   79|Automatically upd...|<p>I would like t...|      6|\n",
      "| 930|        245|2008-08-04 07:47:25|               NULL|   28|How do I connect ...|<p>What's the sim...|      7|\n",
      "|1040|        254|2008-08-04 12:45:22|               NULL|   42|How do I delete a...|<p>I'm looking fo...|      7|\n",
      "|1160|        120|2008-08-04 18:37:24|               NULL|   36|Use SVN Revision ...|<p>I am using CCN...|     12|\n",
      "|1300|         91|2008-08-04 21:55:04|               NULL|   23|Is nAnt still sup...|<p>I am using MSB...|      7|\n",
      "|1390|         60|2008-08-04 23:33:36|               NULL|   18|Is Windows Server...|<p>I'm setting up...|      6|\n",
      "|1610|        328|2008-08-05 04:37:31|               NULL|   63|Can I logically r...|<p>If I'm adding ...|      8|\n",
      "|1760|        234|2008-08-05 07:51:49|               NULL|   51|.NET Unit Testing...|<p>Getting back i...|     12|\n",
      "|1970|        116|2008-08-05 13:39:31|               NULL|   10|What language do ...|<p>PostgreSQL is ...|      8|\n",
      "|2120|        383|2008-08-05 18:49:11|               NULL|   77|Convert HashBytes...|<p>I want to get ...|      7|\n",
      "|2300|        193|2008-08-05 20:30:46|               NULL|   10|How do I traverse...|<P>I want to be a...|      6|\n",
      "|2530|        307|2008-08-05 23:22:32|               NULL| 1614|How do you disabl...|<p>How do you dis...|     38|\n",
      "|2550|        308|2008-08-05 23:39:04|               NULL|   16|What are effectiv...|<p>A quick glance...|      7|\n",
      "|2630|         17|2008-08-06 01:01:32|2012-02-22 08:58:23|   14|What are your fav...|<p>I just found /...|     13|\n",
      "|2750|        435|2008-08-06 02:51:29|               NULL|    7|Data verification...|<p>I'm wondering ...|      8|\n",
      "|2840|        383|2008-08-06 03:57:00|               NULL|   32|Paging SQL Server...|<p>How do I page ...|      6|\n",
      "+----+-----------+-------------------+-------------------+-----+--------------------+--------------------+-------+\n",
      "only showing top 20 rows\n",
      "\n"
     ]
    },
    {
     "data": {
      "text/plain": [
       "DataFrame[]"
      ]
     },
     "execution_count": 10,
     "metadata": {},
     "output_type": "execute_result"
    }
   ],
   "source": [
    "bucketSize = 5\n",
    "\n",
    "renamed_answers_df = answers_df.select(\"Id\", \"ParentId\") \\\n",
    "    .withColumnRenamed(\"Id\", \"AnswerId\") \\\n",
    "    .withColumnRenamed(\"ParentId\", \"Id\") \\\n",
    "    .groupBy(\"Id\").agg(count(\"*\").alias(\"Answers\"))\n",
    "# Ta chạy ra bảng Id câu hỏi với tổng số câu trả lời > 5 trước sau đó join question Id với Id của bảng group này\n",
    "renamed_answers_df \\\n",
    "    .filter(renamed_answers_df.Answers > 5) \\\n",
    "    .write.bucketBy(bucketSize, \"Id\").saveAsTable(\"Answer\")\n",
    "\n",
    "questions_df.write.bucketBy(bucketSize, \"Id\").saveAsTable(\"Question\")\n",
    "# tạo ra 2 bảng bucket với cột Id để tăng tốc Join\n",
    "good_questions_df = spark.table(\"Question\").join(spark.table(\"Answer\"), \"Id\")\n",
    "good_questions_df \\\n",
    "    .sort(\"Id\") \\\n",
    "    .show()\n",
    "\n",
    "# drop 2 bảng booket\n",
    "spark.sql(\"DROP TABLE IF EXISTS Answer\")\n",
    "spark.sql(\"DROP TABLE IF EXISTS Question\")\n"
   ]
  },
  {
   "cell_type": "markdown",
   "metadata": {},
   "source": [
    "### (Nâng cao) Yêu cầu 6: Tìm các Active User\n",
    "Một User được tính là Active sẽ cần thỏa mãn một trong các yêu cầu sau:\n",
    "\n",
    "Có nhiều hơn 50 câu trả lời hoặc tổng số điểm đạt được khi trả lời lớn hơn 500.\n",
    "Có nhiều hơn 5 câu trả lời ngay trong ngày câu hỏi được tạo.\n",
    "Bạn hãy lọc các User thỏa mãn điều kiện trên."
   ]
  },
  {
   "cell_type": "code",
   "execution_count": 11,
   "metadata": {},
   "outputs": [
    {
     "name": "stderr",
     "output_type": "stream",
     "text": [
      "                                                                                \r"
     ]
    },
    {
     "name": "stdout",
     "output_type": "stream",
     "text": [
      "+------+-----------+-----------+----------------------+-------+-----------------+\n",
      "|    Id|CreatedDate|OwnerUserId|TotalAnswerScoreOfUser|Answers|AnswersWithinDate|\n",
      "+------+-----------+-----------+----------------------+-------+-----------------+\n",
      "|100420| 2008-09-19|       9611|                   542|    100|               17|\n",
      "|406760| 2009-01-02|      22656|                 30190|    408|               59|\n",
      "+------+-----------+-----------+----------------------+-------+-----------------+\n",
      "\n"
     ]
    },
    {
     "data": {
      "text/plain": [
       "DataFrame[]"
      ]
     },
     "execution_count": 11,
     "metadata": {},
     "output_type": "execute_result"
    }
   ],
   "source": [
    "# Tạo bucket cho bảng owneruserid với chi tiết câu hỏi\n",
    "bucketSize = 5\n",
    "\n",
    "# Với yêu cầu này ban đầu ta tìm ra các user có điểm tổng điểm trả lời > 500\n",
    "user_scoregt500_df = answers_df.dropna(subset=[\"OwnerUserId\"]) \\\n",
    "    .groupBy(\"OwnerUserId\").agg(sum(\"Score\").alias(\"TotalAnswerScoreOfUser\")) \\\n",
    "    .filter(\"TotalAnswerScoreOfUser > 500\")\n",
    "\n",
    "# Từ user ta sẽ tìm được các câu hỏi của user đó\n",
    "questionswithcreation_df = questions_df \\\n",
    "    .select(\"Id\",col(\"OwnerUserId\").alias(\"UserId\"), \n",
    "            date_format(\"CreationDate\", 'yyyy-MM-dd').alias(\"CreatedDate\"))\n",
    "users_withquestions_df = user_scoregt500_df \\\n",
    "    .join(questionswithcreation_df, \n",
    "          user_scoregt500_df.OwnerUserId == questionswithcreation_df.UserId, \n",
    "          \"inner\") \\\n",
    "    .drop(\"UserId\") \\\n",
    "\n",
    "# Tạo bucket cho bảng bên trên để join question Id, join 1 cột sẽ nhanh hơn nên ta sẽ join 1 cột trước\n",
    "users_withquestions_df.write \\\n",
    "    .bucketBy(bucketSize, \"Id\") \\\n",
    "    .mode(\"overwrite\").saveAsTable(\"UsersWithQuestions\")\n",
    "\n",
    "# Tạo bucket cho bảng tổng số câu trả lời theo question Id và từng ngày trước, nhưng để join sau\n",
    "answercounting_bydate_df = answers_df \\\n",
    "    .select(answers_df.ParentId.alias(\"Id\"), \n",
    "            date_format(\"CreationDate\", 'yyyy-MM-dd').alias(\"CreatedDate\")) \\\n",
    "    .groupBy(\"Id\", \"CreatedDate\").agg(count(\"*\").alias(\"AnswersWithinDate\"))\n",
    "\n",
    "answercounting_bydate_df \\\n",
    "    .filter(answercounting_bydate_df.AnswersWithinDate > 5) \\\n",
    "    .write.bucketBy(10, \"Id\", \"CreatedDate\") \\\n",
    "    .mode(\"overwrite\").saveAsTable(\"UsersWithQuestionsMore50Answers\")\n",
    "\n",
    "# Group tiếp tục để lấy tổng số câu trả lời cho từng câu hỏi để hạn chế group trên bảng nhiều dòng hơn\n",
    "# Và tạo bucket cho bảng tổng này để cho mục đích join id\n",
    "answercounting_gt50_df = answercounting_bydate_df.select(\"Id\", \"AnswersWithinDate\") \\\n",
    "    .groupBy(\"Id\").agg(sum(\"AnswersWithinDate\").alias(\"Answers\"))\n",
    "answercounting_gt50_df \\\n",
    "    .filter(answercounting_gt50_df.Answers > 50) \\\n",
    "    .write.bucketBy(bucketSize, \"Id\") \\\n",
    "    .mode(\"overwrite\").saveAsTable(\"AnswerCountingGt50ByQId\")\n",
    "\n",
    "# Ta bắt đầu join question Id để tìm ra tổng số câu trả lời theo câu hỏi\n",
    "# Tạo bucket để phục vụ cho việc join question Id và ngày tạo\n",
    "spark.table(\"UsersWithQuestions\") \\\n",
    "    .join(spark.table(\"AnswerCountingGt50ByQId\"), \"Id\") \\\n",
    "    .write.bucketBy(bucketSize, \"Id\", \"CreatedDate\") \\\n",
    "    .mode(\"overwrite\").saveAsTable(\"AnswersWithinDateByQId\")\n",
    "\n",
    "# Cuối cùng, ta join question Id và ngày tạo để tìm ra tổng số câu trả lời > 5 trong cùng ngày đặt câu hỏi\n",
    "active_users_df = spark.table(\"AnswersWithinDateByQId\") \\\n",
    "    .join(spark.table(\"UsersWithQuestionsMore50Answers\"), [\"Id\", \"CreatedDate\"]) \n",
    "\n",
    "# Cuối cùng dùng union chứ không dùng join\n",
    "active_users_df.show()\n",
    "\n",
    "# Drop 4 bảng bucket\n",
    "spark.sql(\"DROP TABLE IF EXISTS UsersWithQuestions\")\n",
    "spark.sql(\"DROP TABLE IF EXISTS AnswersWithinDateByQId\")\n",
    "spark.sql(\"DROP TABLE IF EXISTS AnswerCountingGt50ByQId\")\n",
    "spark.sql(\"DROP TABLE IF EXISTS UsersWithQuestionsMore50Answers\")"
   ]
  },
  {
   "cell_type": "code",
   "execution_count": null,
   "metadata": {},
   "outputs": [],
   "source": []
  }
 ],
 "metadata": {
  "kernelspec": {
   "display_name": "Python 3 (ipykernel)",
   "language": "python",
   "name": "python3"
  },
  "language_info": {
   "codemirror_mode": {
    "name": "ipython",
    "version": 3
   },
   "file_extension": ".py",
   "mimetype": "text/x-python",
   "name": "python",
   "nbconvert_exporter": "python",
   "pygments_lexer": "ipython3",
   "version": "3.12.2"
  }
 },
 "nbformat": 4,
 "nbformat_minor": 4
}
