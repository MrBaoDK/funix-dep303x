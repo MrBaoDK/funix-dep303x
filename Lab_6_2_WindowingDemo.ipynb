{
  "nbformat": 4,
  "nbformat_minor": 0,
  "metadata": {
    "colab": {
      "provenance": []
    },
    "kernelspec": {
      "name": "python3",
      "display_name": "Python 3"
    },
    "language_info": {
      "name": "python"
    }
  },
  "cells": [
    {
      "cell_type": "markdown",
      "metadata": {
        "id": "ZaL70vgSqsqe"
      },
      "source": [
        "# Lab 6.2: WindowingDemo\n",
        "\n",
        "## Tổng quan bài tập\n",
        "**Đề bài**: Hãy hoàn thiện các phần `[...]` để hoàn thiện đoạn code và giải quyết bài toán theo yêu cầu.\n",
        "\n",
        "## Tài nguyên tham khảo\n",
        "\n",
        "Bạn có thể tải tập Dataset tại [link sau](https://drive.google.com/file/d/1q0TEA4sEPzv2ghAohGIQQrNdp6JdHFDc/view?usp=sharing). Sau đó đưa lên Google Drive và kết nối với Colab là có thể sử dụng được. Tập dữ liệu là file .parquet có cấu trúc như sau:\n",
        "```\n",
        "root\n",
        " |-- Country: string (nullable = true)\n",
        " |-- WeekNumber: integer (nullable = true)\n",
        " |-- NumInvoices: long (nullable = true)\n",
        " |-- TotalQuantity: long (nullable = true)\n",
        " |-- InvoiceValue: double (nullable = true)\n",
        "\n",
        "```\n",
        "\n"
      ]
    },
    {
      "cell_type": "markdown",
      "metadata": {
        "id": "oPRu5D4IfO3I"
      },
      "source": [
        "# Cài đặt Spark trên Google Colab\n",
        "\n",
        "Để có thể sử dụng Spark trên môi trường Google Colab thì bạn sẽ cần cài đặt một số thành phần sau:\n",
        "- Java 8\n",
        "- Spark Binary\n",
        "- findspark"
      ]
    },
    {
      "cell_type": "code",
      "metadata": {
        "id": "yHdKMp8zeMel",
        "colab": {
          "base_uri": "https://localhost:8080/"
        },
        "outputId": "d58d71be-7ce9-4a55-9189-ad86c444cb1a"
      },
      "source": [
        "!sudo apt update\n",
        "!apt-get install openjdk-8-jdk-headless -qq > /dev/null\n",
        "!wget -q https://downloads.apache.org/spark/spark-3.5.0/spark-3.5.0-bin-hadoop3.tgz\n",
        "!tar xf spark-3.5.0-bin-hadoop3.tgz\n",
        "!pip install -q findspark"
      ],
      "execution_count": 1,
      "outputs": [
        {
          "output_type": "stream",
          "name": "stdout",
          "text": [
            "\u001b[33m\r0% [Working]\u001b[0m\r            \rHit:1 http://archive.ubuntu.com/ubuntu jammy InRelease\n",
            "\u001b[33m\r0% [Waiting for headers] [Waiting for headers] [Connected to cloud.r-project.or\u001b[0m\r                                                                               \rGet:2 http://archive.ubuntu.com/ubuntu jammy-updates InRelease [119 kB]\n",
            "\u001b[33m\r0% [2 InRelease 12.7 kB/119 kB 11%] [Waiting for headers] [Waiting for headers]\u001b[0m\r                                                                               \rGet:3 https://cloud.r-project.org/bin/linux/ubuntu jammy-cran40/ InRelease [3,626 B]\n",
            "\u001b[33m\r0% [2 InRelease 15.6 kB/119 kB 13%] [Waiting for headers] [Connected to ppa.lau\u001b[0m\r                                                                               \rHit:4 https://developer.download.nvidia.com/compute/cuda/repos/ubuntu2204/x86_64  InRelease\n",
            "\u001b[33m\r0% [2 InRelease 27.2 kB/119 kB 23%] [Waiting for headers] [Connected to ppa.lau\u001b[0m\u001b[33m\r0% [Waiting for headers] [Connected to ppa.launchpadcontent.net (185.125.190.80\u001b[0m\r                                                                               \rHit:5 http://archive.ubuntu.com/ubuntu jammy-backports InRelease\n",
            "Get:6 http://security.ubuntu.com/ubuntu jammy-security InRelease [110 kB]\n",
            "Get:7 https://ppa.launchpadcontent.net/c2d4u.team/c2d4u4.0+/ubuntu jammy InRelease [18.1 kB]\n",
            "Hit:8 https://ppa.launchpadcontent.net/deadsnakes/ppa/ubuntu jammy InRelease\n",
            "Get:9 http://archive.ubuntu.com/ubuntu jammy-updates/main amd64 Packages [1,678 kB]\n",
            "Hit:10 https://ppa.launchpadcontent.net/graphics-drivers/ppa/ubuntu jammy InRelease\n",
            "Get:11 http://archive.ubuntu.com/ubuntu jammy-updates/universe amd64 Packages [1,333 kB]\n",
            "Hit:12 https://ppa.launchpadcontent.net/ubuntugis/ppa/ubuntu jammy InRelease\n",
            "Get:13 https://ppa.launchpadcontent.net/c2d4u.team/c2d4u4.0+/ubuntu jammy/main Sources [2,268 kB]\n",
            "Get:14 https://ppa.launchpadcontent.net/c2d4u.team/c2d4u4.0+/ubuntu jammy/main amd64 Packages [1,164 kB]\n",
            "Fetched 6,693 kB in 2s (3,134 kB/s)\n",
            "Reading package lists... Done\n",
            "Building dependency tree... Done\n",
            "Reading state information... Done\n",
            "40 packages can be upgraded. Run 'apt list --upgradable' to see them.\n"
          ]
        }
      ]
    },
    {
      "cell_type": "markdown",
      "metadata": {
        "id": "1fv63ddnSOG-"
      },
      "source": [
        "Sau đó, bạn sẽ cần khai báo cho hệ thống các đường dẫn cho các thành phần vừa cài."
      ]
    },
    {
      "cell_type": "code",
      "metadata": {
        "id": "A8gN9Zhx8vPb"
      },
      "source": [
        "import os\n",
        "import findspark\n",
        "\n",
        "os.environ[\"JAVA_HOME\"] = \"/usr/lib/jvm/java-8-openjdk-amd64\"\n",
        "os.environ[\"SPARK_HOME\"] = \"/content/spark-3.5.0-bin-hadoop3\"\n",
        "\n",
        "findspark.init()"
      ],
      "execution_count": 3,
      "outputs": []
    },
    {
      "cell_type": "markdown",
      "metadata": {
        "id": "AM4wpiJMTCib"
      },
      "source": [
        "# Kết nối với Google Drive\n",
        "\n",
        "Để lấy dữ liệu từ các Dataset, bạn sẽ phải lưu file dữ liệu lên Google Drive. Sau đó kết nối Colab đến Google Drive của bạn và lấy được các file dữ liệu."
      ]
    },
    {
      "cell_type": "code",
      "metadata": {
        "colab": {
          "base_uri": "https://localhost:8080/"
        },
        "id": "AoYnrNV7UChX",
        "outputId": "bf1682a5-818d-4be7-ed9a-666df2efdfa1"
      },
      "source": [
        "from google.colab import drive\n",
        "drive.mount(\"/content/gdrive\")"
      ],
      "execution_count": 2,
      "outputs": [
        {
          "output_type": "stream",
          "name": "stdout",
          "text": [
            "Mounted at /content/gdrive\n"
          ]
        }
      ]
    },
    {
      "cell_type": "markdown",
      "metadata": {
        "id": "t0yzaQQNDKoV"
      },
      "source": [
        "# Average Friends by Age\n",
        "\n",
        "Bạn sẽ cần khởi tạo 1 SparkSesson để có thể bắt đầu Spark."
      ]
    },
    {
      "cell_type": "code",
      "metadata": {
        "id": "BjqT5XXj80P8"
      },
      "source": [
        "from pyspark import SparkConf\n",
        "from pyspark.sql import SparkSession, Window\n",
        "from pyspark.sql import functions as f\n",
        "\n",
        "conf = SparkConf() \\\n",
        "    .setMaster('local') \\\n",
        "    .setAppName('WindowingDemo')\n",
        "\n",
        "spark = SparkSession.builder.config(conf=conf).getOrCreate()\n",
        "sc = spark.sparkContext\n",
        "\n",
        "DATASET_PATH = '/content/gdrive/My Drive/DEP303/summary.parquet'"
      ],
      "execution_count": 4,
      "outputs": []
    },
    {
      "cell_type": "markdown",
      "metadata": {
        "id": "j8rH8lkhnKtk"
      },
      "source": [
        "Đọc dữ liệu từ Dataset"
      ]
    },
    {
      "cell_type": "code",
      "metadata": {
        "colab": {
          "base_uri": "https://localhost:8080/"
        },
        "id": "UZoED7znnNOo",
        "outputId": "4a76f440-76c5-4e36-c113-26914d4adca5"
      },
      "source": [
        "summary_df = spark.read \\\n",
        "    .format(\"parquet\") \\\n",
        "    .option(\"header\",\"true\") \\\n",
        "    .load(DATASET_PATH)\n",
        "summary_df.printSchema()"
      ],
      "execution_count": 5,
      "outputs": [
        {
          "output_type": "stream",
          "name": "stdout",
          "text": [
            "root\n",
            " |-- Country: string (nullable = true)\n",
            " |-- WeekNumber: integer (nullable = true)\n",
            " |-- NumInvoices: long (nullable = true)\n",
            " |-- TotalQuantity: long (nullable = true)\n",
            " |-- InvoiceValue: double (nullable = true)\n",
            "\n"
          ]
        }
      ]
    },
    {
      "cell_type": "markdown",
      "metadata": {
        "id": "UUbcHfA8oX4P"
      },
      "source": [
        "Hãy sử dụng các thao tác Windowing để tạo thêm cột `RunningTotal` và tính tổng `Invoice` từ tuần đầu tiên đến tuần hiện tại theo các `Country`\n",
        "<img src = \"https://firebasestorage.googleapis.com/v0/b/funix-way.appspot.com/o/xSeries%2FData%20Engineer%2FDEP303x%2FSumary_Image%2FDEP303_sum_L8_4.png?alt=media&token=d9ce255c-42f5-4bf5-9cc3-fde26db5f2bc\">"
      ]
    },
    {
      "cell_type": "code",
      "metadata": {
        "colab": {
          "base_uri": "https://localhost:8080/"
        },
        "id": "UoZciWyePWNI",
        "outputId": "3dda6bfe-e757-4140-b831-b4914ed27049"
      },
      "source": [
        "running_total_window = Window.partitionBy(\"Country\") \\\n",
        "    .orderBy(\"WeekNumber\") \\\n",
        "    .rowsBetween(Window.unboundedPreceding, Window.currentRow)\n",
        "\n",
        "summary_df.withColumn(\"RunningTotal\",f.sum(\"InvoiceValue\").over(running_total_window)) \\\n",
        "    .show()"
      ],
      "execution_count": 6,
      "outputs": [
        {
          "output_type": "stream",
          "name": "stdout",
          "text": [
            "+---------------+----------+-----------+-------------+------------+------------------+\n",
            "|        Country|WeekNumber|NumInvoices|TotalQuantity|InvoiceValue|      RunningTotal|\n",
            "+---------------+----------+-----------+-------------+------------+------------------+\n",
            "|      Australia|        48|          1|          107|      358.25|            358.25|\n",
            "|      Australia|        49|          1|          214|       258.9|            617.15|\n",
            "|      Australia|        50|          2|          133|      387.95|1005.0999999999999|\n",
            "|        Austria|        50|          2|            3|      257.04|            257.04|\n",
            "|        Bahrain|        51|          1|           54|      205.74|            205.74|\n",
            "|        Belgium|        48|          1|          528|       346.1|             346.1|\n",
            "|        Belgium|        50|          2|          285|      625.16|            971.26|\n",
            "|        Belgium|        51|          2|          942|      838.65|1809.9099999999999|\n",
            "|Channel Islands|        49|          1|           80|      363.53|            363.53|\n",
            "|         Cyprus|        50|          1|          917|     1590.82|           1590.82|\n",
            "|        Denmark|        49|          1|          454|      1281.5|            1281.5|\n",
            "|           EIRE|        48|          7|         2822|     3147.23|           3147.23|\n",
            "|           EIRE|        49|          5|         1280|      3284.1|           6431.33|\n",
            "|           EIRE|        50|          5|         1184|     2321.78|           8753.11|\n",
            "|           EIRE|        51|          5|           95|      276.84|           9029.95|\n",
            "|        Finland|        50|          1|         1254|       892.8|             892.8|\n",
            "|         France|        48|          4|         1299|     2808.16|           2808.16|\n",
            "|         France|        49|          9|         2303|     4527.01|           7335.17|\n",
            "|         France|        50|          6|          529|      537.32|           7872.49|\n",
            "|         France|        51|          5|          847|     1702.87|           9575.36|\n",
            "+---------------+----------+-----------+-------------+------------+------------------+\n",
            "only showing top 20 rows\n",
            "\n"
          ]
        }
      ]
    }
  ]
}