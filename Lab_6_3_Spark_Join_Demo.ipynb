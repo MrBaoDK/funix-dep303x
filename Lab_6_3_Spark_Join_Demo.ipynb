{
  "nbformat": 4,
  "nbformat_minor": 0,
  "metadata": {
    "colab": {
      "provenance": []
    },
    "kernelspec": {
      "name": "python3",
      "display_name": "Python 3"
    },
    "language_info": {
      "name": "python"
    }
  },
  "cells": [
    {
      "cell_type": "markdown",
      "metadata": {
        "id": "ZaL70vgSqsqe"
      },
      "source": [
        "# Lab 6.3: Spark Join Demo\n",
        "\n",
        "## Tổng quan bài tập\n",
        "**Đề bài**: Hãy hoàn thiện các phần `[...]` để hoàn thiện đoạn code và giải quyết bài toán theo yêu cầu. Ở bài Lab này, bạn sẽ được thực hành thao tác Join hai Dataframe để trích xuất dữ liệu sử dụng Spark.\n",
        "\n",
        "\n"
      ]
    },
    {
      "cell_type": "markdown",
      "metadata": {
        "id": "oPRu5D4IfO3I"
      },
      "source": [
        "# Cài đặt Spark trên Google Colab\n",
        "\n",
        "Để có thể sử dụng Spark trên môi trường Google Colab thì bạn sẽ cần cài đặt một số thành phần sau:\n",
        "- Java 8\n",
        "- Spark Binary\n",
        "- findspark"
      ]
    },
    {
      "cell_type": "code",
      "metadata": {
        "id": "iBaGz0ilILu8",
        "colab": {
          "base_uri": "https://localhost:8080/"
        },
        "outputId": "b78bc78b-4920-4267-acf7-c845f538f5c5"
      },
      "source": [
        "!sudo apt update\n",
        "!apt-get install openjdk-8-jdk-headless -qq > /dev/null\n",
        "!wget -q https://downloads.apache.org/spark/spark-3.5.0/spark-3.5.0-bin-hadoop3.tgz\n",
        "!tar xf spark-3.5.0-bin-hadoop3.tgz\n",
        "!pip install -q findspark"
      ],
      "execution_count": 1,
      "outputs": [
        {
          "output_type": "stream",
          "name": "stdout",
          "text": [
            "Hit:1 https://developer.download.nvidia.com/compute/cuda/repos/ubuntu2204/x86_64  InRelease\n",
            "Get:2 https://cloud.r-project.org/bin/linux/ubuntu jammy-cran40/ InRelease [3,626 B]\n",
            "Get:3 http://security.ubuntu.com/ubuntu jammy-security InRelease [110 kB]\n",
            "Hit:4 http://archive.ubuntu.com/ubuntu jammy InRelease\n",
            "Get:5 http://archive.ubuntu.com/ubuntu jammy-updates InRelease [119 kB]\n",
            "Get:6 https://ppa.launchpadcontent.net/c2d4u.team/c2d4u4.0+/ubuntu jammy InRelease [18.1 kB]\n",
            "Hit:7 http://archive.ubuntu.com/ubuntu jammy-backports InRelease\n",
            "Hit:8 https://ppa.launchpadcontent.net/deadsnakes/ppa/ubuntu jammy InRelease\n",
            "Get:9 http://archive.ubuntu.com/ubuntu jammy-updates/universe amd64 Packages [1,333 kB]\n",
            "Hit:10 https://ppa.launchpadcontent.net/graphics-drivers/ppa/ubuntu jammy InRelease\n",
            "Hit:11 https://ppa.launchpadcontent.net/ubuntugis/ppa/ubuntu jammy InRelease\n",
            "Get:12 https://ppa.launchpadcontent.net/c2d4u.team/c2d4u4.0+/ubuntu jammy/main Sources [2,268 kB]\n",
            "Get:13 http://archive.ubuntu.com/ubuntu jammy-updates/main amd64 Packages [1,678 kB]\n",
            "Get:14 https://ppa.launchpadcontent.net/c2d4u.team/c2d4u4.0+/ubuntu jammy/main amd64 Packages [1,164 kB]\n",
            "Fetched 6,693 kB in 3s (2,652 kB/s)\n",
            "Reading package lists... Done\n",
            "Building dependency tree... Done\n",
            "Reading state information... Done\n",
            "40 packages can be upgraded. Run 'apt list --upgradable' to see them.\n"
          ]
        }
      ]
    },
    {
      "cell_type": "markdown",
      "metadata": {
        "id": "1fv63ddnSOG-"
      },
      "source": [
        "Sau đó, bạn sẽ cần khai báo cho hệ thống các đường dẫn cho các thành phần vừa cài."
      ]
    },
    {
      "cell_type": "code",
      "metadata": {
        "id": "A8gN9Zhx8vPb"
      },
      "source": [
        "import os\n",
        "import findspark\n",
        "\n",
        "os.environ[\"JAVA_HOME\"] = \"/usr/lib/jvm/java-8-openjdk-amd64\"\n",
        "os.environ[\"SPARK_HOME\"] = \"/content/spark-3.5.0-bin-hadoop3\"\n",
        "\n",
        "findspark.init()"
      ],
      "execution_count": 2,
      "outputs": []
    },
    {
      "cell_type": "markdown",
      "metadata": {
        "id": "t0yzaQQNDKoV"
      },
      "source": [
        "# Spark Join Demo\n",
        "\n",
        "Bạn sẽ cần khởi tạo 1 SparkSesson để có thể bắt đầu Spark."
      ]
    },
    {
      "cell_type": "code",
      "metadata": {
        "id": "BjqT5XXj80P8"
      },
      "source": [
        "from pyspark import SparkConf\n",
        "from pyspark.sql import SparkSession, Window\n",
        "from pyspark.sql import functions as f\n",
        "\n",
        "conf = SparkConf() \\\n",
        "    .setMaster('local') \\\n",
        "    .setAppName('Lab6.3')\n",
        "\n",
        "spark = SparkSession.builder.config(conf=conf).getOrCreate()\n",
        "sc = spark.sparkContext"
      ],
      "execution_count": 5,
      "outputs": []
    },
    {
      "cell_type": "markdown",
      "metadata": {
        "id": "pDXVOZw0Iue6"
      },
      "source": [
        "Tạo Dataframe `order_df` chứa thông tin về các đơn đặt hàng."
      ]
    },
    {
      "cell_type": "code",
      "metadata": {
        "colab": {
          "base_uri": "https://localhost:8080/"
        },
        "id": "xqSVt_2ZHIW3",
        "outputId": "f1c4206d-0755-4ca6-c419-4b46fcd6f7be"
      },
      "source": [
        "orders_list = [(\"01\", \"02\", 350, 1),\n",
        "                (\"01\", \"04\", 580, 1),\n",
        "                (\"01\", \"07\", 320, 2),\n",
        "                (\"02\", \"03\", 450, 1),\n",
        "                (\"02\", \"06\", 220, 1),\n",
        "                (\"03\", \"01\", 195, 1),\n",
        "                (\"04\", \"09\", 270, 3),\n",
        "                (\"04\", \"08\", 410, 2),\n",
        "                (\"05\", \"02\", 350, 1)]\n",
        "\n",
        "# Tạo Dataframe\n",
        "order_df = spark.createDataFrame(orders_list, \"order_id: string, prod_id: string, unit_price: int, qty: int\" )\n",
        "order_df.show()"
      ],
      "execution_count": 7,
      "outputs": [
        {
          "output_type": "stream",
          "name": "stdout",
          "text": [
            "+--------+-------+----------+---+\n",
            "|order_id|prod_id|unit_price|qty|\n",
            "+--------+-------+----------+---+\n",
            "|      01|     02|       350|  1|\n",
            "|      01|     04|       580|  1|\n",
            "|      01|     07|       320|  2|\n",
            "|      02|     03|       450|  1|\n",
            "|      02|     06|       220|  1|\n",
            "|      03|     01|       195|  1|\n",
            "|      04|     09|       270|  3|\n",
            "|      04|     08|       410|  2|\n",
            "|      05|     02|       350|  1|\n",
            "+--------+-------+----------+---+\n",
            "\n"
          ]
        }
      ]
    },
    {
      "cell_type": "markdown",
      "metadata": {
        "id": "qQMee5eZJZTa"
      },
      "source": [
        "Tạo Dataframe `product_list` chứa thông tin về các sản phẩm."
      ]
    },
    {
      "cell_type": "code",
      "metadata": {
        "colab": {
          "base_uri": "https://localhost:8080/"
        },
        "id": "V2t8hJqTIf61",
        "outputId": "5b4667e9-448c-436f-deb6-ccd785d0de1e"
      },
      "source": [
        "product_list = [(\"01\", \"Scroll Mouse\", 250, 20),\n",
        "                (\"02\", \"Optical Mouse\", 350, 20),\n",
        "                (\"03\", \"Wireless Mouse\", 450, 50),\n",
        "                (\"04\", \"Wireless Keyboard\", 580, 50),\n",
        "                (\"05\", \"Standard Keyboard\", 360, 10),\n",
        "                (\"06\", \"16 GB Flash Storage\", 240, 100),\n",
        "                (\"07\", \"32 GB Flash Storage\", 320, 50),\n",
        "                (\"08\", \"64 GB Flash Storage\", 430, 25)]\n",
        "\n",
        "# Tạo Dataframe\n",
        "product_df = spark.createDataFrame(product_list, \"prod_id: string, prod_name: string, list_price: int, qty: int\")\n",
        "product_df.show()"
      ],
      "execution_count": 8,
      "outputs": [
        {
          "output_type": "stream",
          "name": "stdout",
          "text": [
            "+-------+-------------------+----------+---+\n",
            "|prod_id|          prod_name|list_price|qty|\n",
            "+-------+-------------------+----------+---+\n",
            "|     01|       Scroll Mouse|       250| 20|\n",
            "|     02|      Optical Mouse|       350| 20|\n",
            "|     03|     Wireless Mouse|       450| 50|\n",
            "|     04|  Wireless Keyboard|       580| 50|\n",
            "|     05|  Standard Keyboard|       360| 10|\n",
            "|     06|16 GB Flash Storage|       240|100|\n",
            "|     07|32 GB Flash Storage|       320| 50|\n",
            "|     08|64 GB Flash Storage|       430| 25|\n",
            "+-------+-------------------+----------+---+\n",
            "\n"
          ]
        }
      ]
    },
    {
      "cell_type": "markdown",
      "metadata": {
        "id": "9mbgoHwNJfYJ"
      },
      "source": [
        "Thực hiện thao tác Join trên hai Dataframe"
      ]
    },
    {
      "cell_type": "code",
      "metadata": {
        "colab": {
          "base_uri": "https://localhost:8080/"
        },
        "id": "y7HBueBcIkV9",
        "outputId": "351735f4-02a7-42cc-92b3-7c271abee693"
      },
      "source": [
        "# Xác định điều kiện Join\n",
        "join_expr = order_df.prod_id == product_df.prod_id\n",
        "\n",
        "product_renamed_df = product_df.withColumnRenamed(\"qty\", \"reorder_qty\")\n",
        "\n",
        "# Join hai Dataframe\n",
        "order_df.join(product_renamed_df, join_expr, \"inner\") \\\n",
        "    .drop(product_renamed_df.prod_id) \\\n",
        "    .select(\"order_id\", \"prod_id\", \"prod_name\", \"unit_price\", \"list_price\", \"qty\") \\\n",
        "    .show()"
      ],
      "execution_count": 10,
      "outputs": [
        {
          "output_type": "stream",
          "name": "stdout",
          "text": [
            "+--------+-------+-------------------+----------+----------+---+\n",
            "|order_id|prod_id|          prod_name|unit_price|list_price|qty|\n",
            "+--------+-------+-------------------+----------+----------+---+\n",
            "|      03|     01|       Scroll Mouse|       195|       250|  1|\n",
            "|      01|     02|      Optical Mouse|       350|       350|  1|\n",
            "|      05|     02|      Optical Mouse|       350|       350|  1|\n",
            "|      02|     03|     Wireless Mouse|       450|       450|  1|\n",
            "|      01|     04|  Wireless Keyboard|       580|       580|  1|\n",
            "|      02|     06|16 GB Flash Storage|       220|       240|  1|\n",
            "|      01|     07|32 GB Flash Storage|       320|       320|  2|\n",
            "|      04|     08|64 GB Flash Storage|       410|       430|  2|\n",
            "+--------+-------+-------------------+----------+----------+---+\n",
            "\n"
          ]
        }
      ]
    }
  ]
}