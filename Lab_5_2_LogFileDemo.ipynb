{
  "nbformat": 4,
  "nbformat_minor": 0,
  "metadata": {
    "colab": {
      "provenance": []
    },
    "kernelspec": {
      "name": "python3",
      "display_name": "Python 3"
    },
    "language_info": {
      "name": "python"
    }
  },
  "cells": [
    {
      "cell_type": "markdown",
      "metadata": {
        "id": "ZaL70vgSqsqe"
      },
      "source": [
        "# Lab5.2: LogFileDemo\n",
        "\n",
        "## Tổng quan bài tập\n",
        "**Đề bài**: Dự vào dataset, bạn hãy trích xuất các thông tin từ file log đó và chuyển về thành một Dataframe. Dataframe cuối cùng sẽ có Schema như sau:\n",
        "```\n",
        "root\n",
        " |-- referrer: string (nullable = true)\n",
        " |-- count: long (nullable = false)\n",
        "```\n",
        "Với trường `referrer` là domain của các trang web và `count` là số lần domain đó xuất hiện trong dataset. Ví dụ:\n",
        "```\n",
        "+--------------------------------------+-----+\n",
        "|referrer                              |count|\n",
        "+--------------------------------------+-----+\n",
        "|http://ijavascript.cn                 |1    |\n",
        "|http://www.google.co.tz               |1    |\n",
        "|http://www.google.ca                  |6    |\n",
        "|https://www.google.hr                 |2    |\n",
        "|https://www.google.ch                 |1    |\n",
        "+--------------------------------------+-----+\n",
        "```\n",
        "\n",
        "Mỗi một dòng ở Dataset sẽ có các thông tin, bạn cần dùng regex để trích xuất các thông tin đó và tổng hợp lại dữ liệu.\n",
        "Hãy hoàn thiện các phần `[...]` để hoàn thiện đoạn code và giải quyết bài toán trên.\n",
        "\n",
        "## Tài nguyên tham khảo\n",
        "\n",
        "Bạn có thể tải tập Dataset tại [link sau](https://drive.google.com/file/d/1Q5PG4-JumQcLwe63J6zLfSRXKjs6o5KC/view?usp=sharing). Sau đó đưa lên Google Drive và kết nối với Colab là có thể sử dụng được. Tập dữ liệu là file `.txt` chứa các dòng log của một hệ thống,"
      ]
    },
    {
      "cell_type": "markdown",
      "metadata": {
        "id": "oPRu5D4IfO3I"
      },
      "source": [
        "# Cài đặt Spark trên Google Colab\n",
        "\n",
        "Để có thể sử dụng Spark trên môi trường Google Colab thì bạn sẽ cần cài đặt một số thành phần sau:\n",
        "- Java 8\n",
        "- Spark Binary\n",
        "- findspark"
      ]
    },
    {
      "cell_type": "code",
      "metadata": {
        "id": "yHdKMp8zeMel",
        "colab": {
          "base_uri": "https://localhost:8080/"
        },
        "outputId": "36f86942-6782-445a-d728-3c33ee6d1992"
      },
      "source": [
        "!sudo apt update\n",
        "!apt-get install openjdk-8-jdk-headless -qq > /dev/null\n",
        "!wget -q https://downloads.apache.org/spark/spark-3.5.0/spark-3.5.0-bin-hadoop3.tgz\n",
        "!tar xf spark-3.5.0-bin-hadoop3.tgz\n",
        "!pip install -q findspark"
      ],
      "execution_count": 1,
      "outputs": [
        {
          "output_type": "stream",
          "name": "stdout",
          "text": [
            "\u001b[33m\r0% [Working]\u001b[0m\r            \rGet:1 http://security.ubuntu.com/ubuntu jammy-security InRelease [110 kB]\n",
            "\u001b[33m\r0% [Waiting for headers] [1 InRelease 5,482 B/110 kB 5%] [Connecting to cloud.r\u001b[0m\r                                                                               \rHit:2 http://archive.ubuntu.com/ubuntu jammy InRelease\n",
            "\u001b[33m\r0% [1 InRelease 43.1 kB/110 kB 39%] [Connecting to cloud.r-project.org] [Connec\u001b[0m\r                                                                               \rGet:3 http://archive.ubuntu.com/ubuntu jammy-updates InRelease [119 kB]\n",
            "Hit:4 https://developer.download.nvidia.com/compute/cuda/repos/ubuntu2204/x86_64  InRelease\n",
            "Hit:5 http://archive.ubuntu.com/ubuntu jammy-backports InRelease\n",
            "Get:6 https://cloud.r-project.org/bin/linux/ubuntu jammy-cran40/ InRelease [3,626 B]\n",
            "Get:7 https://ppa.launchpadcontent.net/c2d4u.team/c2d4u4.0+/ubuntu jammy InRelease [18.1 kB]\n",
            "Get:8 http://archive.ubuntu.com/ubuntu jammy-updates/universe amd64 Packages [1,333 kB]\n",
            "Hit:9 https://ppa.launchpadcontent.net/deadsnakes/ppa/ubuntu jammy InRelease\n",
            "Hit:10 https://ppa.launchpadcontent.net/graphics-drivers/ppa/ubuntu jammy InRelease\n",
            "Get:11 http://archive.ubuntu.com/ubuntu jammy-updates/main amd64 Packages [1,678 kB]\n",
            "Hit:12 https://ppa.launchpadcontent.net/ubuntugis/ppa/ubuntu jammy InRelease\n",
            "Get:13 https://ppa.launchpadcontent.net/c2d4u.team/c2d4u4.0+/ubuntu jammy/main Sources [2,268 kB]\n",
            "Get:14 https://ppa.launchpadcontent.net/c2d4u.team/c2d4u4.0+/ubuntu jammy/main amd64 Packages [1,164 kB]\n",
            "Fetched 6,693 kB in 2s (3,065 kB/s)\n",
            "Reading package lists... Done\n",
            "Building dependency tree... Done\n",
            "Reading state information... Done\n",
            "40 packages can be upgraded. Run 'apt list --upgradable' to see them.\n"
          ]
        }
      ]
    },
    {
      "cell_type": "markdown",
      "metadata": {
        "id": "1fv63ddnSOG-"
      },
      "source": [
        "Sau đó, bạn sẽ cần khai báo cho hệ thống các đường dẫn cho các thành phần vừa cài."
      ]
    },
    {
      "cell_type": "code",
      "metadata": {
        "id": "A8gN9Zhx8vPb"
      },
      "source": [
        "import os\n",
        "import findspark\n",
        "\n",
        "os.environ[\"JAVA_HOME\"] = \"/usr/lib/jvm/java-8-openjdk-amd64\"\n",
        "os.environ[\"SPARK_HOME\"] = \"/content/spark-3.5.0-bin-hadoop3\"\n",
        "\n",
        "findspark.init()"
      ],
      "execution_count": 2,
      "outputs": []
    },
    {
      "cell_type": "markdown",
      "metadata": {
        "id": "AM4wpiJMTCib"
      },
      "source": [
        "# Kết nối với Google Drive\n",
        "\n",
        "Để lấy dữ liệu từ các Dataset, bạn sẽ phải lưu file dữ liệu lên Google Drive. Sau đó kết nối Colab đến Google Drive của bạn và lấy được các file dữ liệu."
      ]
    },
    {
      "cell_type": "code",
      "metadata": {
        "colab": {
          "base_uri": "https://localhost:8080/"
        },
        "id": "AoYnrNV7UChX",
        "outputId": "e2d15d9b-886c-47d1-896a-2549effcebff"
      },
      "source": [
        "from google.colab import drive\n",
        "drive.mount(\"/content/gdrive\")"
      ],
      "execution_count": 3,
      "outputs": [
        {
          "output_type": "stream",
          "name": "stdout",
          "text": [
            "Mounted at /content/gdrive\n"
          ]
        }
      ]
    },
    {
      "cell_type": "markdown",
      "metadata": {
        "id": "t0yzaQQNDKoV"
      },
      "source": [
        "# LogFileDemo\n",
        "\n",
        "Bạn sẽ cần khởi tạo 1 SparkSesson để có thể bắt đầu Spark."
      ]
    },
    {
      "cell_type": "code",
      "metadata": {
        "id": "BjqT5XXj80P8"
      },
      "source": [
        "from pyspark import SparkConf\n",
        "from pyspark.sql import SparkSession\n",
        "from pyspark.sql.functions import regexp_extract, substring_index\n",
        "\n",
        "conf = SparkConf() \\\n",
        "    .setMaster('local') \\\n",
        "    .setAppName('LogFileDemo')\n",
        "\n",
        "spark = SparkSession.builder.config(conf=conf).getOrCreate()\n",
        "sc = spark.sparkContext\n",
        "\n",
        "DATASET_PATH = '/content/gdrive/My Drive/DEP303/apache_logs.txt'"
      ],
      "execution_count": 4,
      "outputs": []
    },
    {
      "cell_type": "markdown",
      "metadata": {
        "id": "8by6v63yTs8h"
      },
      "source": [
        "Đọc dữ liệu từ Dataset"
      ]
    },
    {
      "cell_type": "code",
      "metadata": {
        "id": "OWCec9DaTnok",
        "colab": {
          "base_uri": "https://localhost:8080/"
        },
        "outputId": "29cbb894-64d3-4fa1-b360-b9fb6fa0ae92"
      },
      "source": [
        "file_df = spark.read.text(DATASET_PATH)\n",
        "file_df.printSchema()"
      ],
      "execution_count": 5,
      "outputs": [
        {
          "output_type": "stream",
          "name": "stdout",
          "text": [
            "root\n",
            " |-- value: string (nullable = true)\n",
            "\n"
          ]
        }
      ]
    },
    {
      "cell_type": "markdown",
      "metadata": {
        "id": "K9gBlPR3TveH"
      },
      "source": [
        "Trích xuất dữ liệu từ các dòng trong Dataset. `logs_df` sẽ có dạng như sau:\n",
        "```\n",
        "+------------+--------------------+--------------------+--------------------+\n",
        "|          ip|                date|             request|            referrer|\n",
        "+------------+--------------------+--------------------+--------------------+\n",
        "|83.149.9.216|17/May/2015:10:05...|/presentations/lo...|http://semicomple...|\n",
        "|83.149.9.216|17/May/2015:10:05...|/presentations/lo...|http://semicomple...|\n",
        "|83.149.9.216|17/May/2015:10:05...|/presentations/lo...|http://semicomple...|\n",
        "|83.149.9.216|17/May/2015:10:05...|/presentations/lo...|http://semicomple...|\n",
        "|83.149.9.216|17/May/2015:10:05...|/presentations/lo...|http://semicomple...|\n",
        "|83.149.9.216|17/May/2015:10:05...|/presentations/lo...|http://semicomple...|\n",
        "|83.149.9.216|17/May/2015:10:05...|/presentations/lo...|http://semicomple...|\n",
        "|83.149.9.216|17/May/2015:10:05...|/presentations/lo...|http://semicomple...|\n",
        "|83.149.9.216|17/May/2015:10:05...|/presentations/lo...|http://semicomple...|\n",
        "|83.149.9.216|17/May/2015:10:05...|/presentations/lo...|http://semicomple...|\n",
        "|83.149.9.216|17/May/2015:10:05...|/presentations/lo...|http://semicomple...|\n",
        "|83.149.9.216|17/May/2015:10:05...|/presentations/lo...|http://semicomple...|\n",
        "|83.149.9.216|17/May/2015:10:05...|/presentations/lo...|http://semicomple...|\n",
        "|83.149.9.216|17/May/2015:10:05...|/presentations/lo...|http://semicomple...|\n",
        "|83.149.9.216|17/May/2015:10:05...|/presentations/lo...|http://semicomple...|\n",
        "|83.149.9.216|17/May/2015:10:05...|/presentations/lo...|http://semicomple...|\n",
        "|83.149.9.216|17/May/2015:10:05...|/presentations/lo...|http://semicomple...|\n",
        "|83.149.9.216|17/May/2015:10:05...|/presentations/lo...|http://semicomple...|\n",
        "|83.149.9.216|17/May/2015:10:05...|/presentations/lo...|http://semicomple...|\n",
        "|83.149.9.216|17/May/2015:10:05...|/presentations/lo...|http://semicomple...|\n",
        "+------------+--------------------+--------------------+--------------------+\n",
        "```"
      ]
    },
    {
      "cell_type": "code",
      "metadata": {
        "colab": {
          "base_uri": "https://localhost:8080/"
        },
        "id": "YlXwSqsQT2Jg",
        "outputId": "e6658f8e-497b-41da-ab46-b18cf7403808"
      },
      "source": [
        "log_reg = r'^(\\S+) (\\S+) (\\S+) \\[([\\w:/]+\\s[+\\-]\\d{4})\\] \"(\\S+) (\\S+) (\\S+)\" (\\d{3}) (\\S+) \"(\\S+)\" \"([^\"]*)'\n",
        "\n",
        "logs_df = file_df.select(regexp_extract('value', log_reg, 1).alias('ip'),\n",
        "                          regexp_extract('value', log_reg, 4).alias('date'),\n",
        "                          regexp_extract('value', log_reg, 6).alias('request'),\n",
        "                          regexp_extract('value', log_reg, 10).alias('referrer'))\n",
        "\n",
        "logs_df.printSchema()\n",
        "logs_df.show()"
      ],
      "execution_count": 6,
      "outputs": [
        {
          "output_type": "stream",
          "name": "stdout",
          "text": [
            "root\n",
            " |-- ip: string (nullable = true)\n",
            " |-- date: string (nullable = true)\n",
            " |-- request: string (nullable = true)\n",
            " |-- referrer: string (nullable = true)\n",
            "\n",
            "+------------+--------------------+--------------------+--------------------+\n",
            "|          ip|                date|             request|            referrer|\n",
            "+------------+--------------------+--------------------+--------------------+\n",
            "|83.149.9.216|17/May/2015:10:05...|/presentations/lo...|http://semicomple...|\n",
            "|83.149.9.216|17/May/2015:10:05...|/presentations/lo...|http://semicomple...|\n",
            "|83.149.9.216|17/May/2015:10:05...|/presentations/lo...|http://semicomple...|\n",
            "|83.149.9.216|17/May/2015:10:05...|/presentations/lo...|http://semicomple...|\n",
            "|83.149.9.216|17/May/2015:10:05...|/presentations/lo...|http://semicomple...|\n",
            "|83.149.9.216|17/May/2015:10:05...|/presentations/lo...|http://semicomple...|\n",
            "|83.149.9.216|17/May/2015:10:05...|/presentations/lo...|http://semicomple...|\n",
            "|83.149.9.216|17/May/2015:10:05...|/presentations/lo...|http://semicomple...|\n",
            "|83.149.9.216|17/May/2015:10:05...|/presentations/lo...|http://semicomple...|\n",
            "|83.149.9.216|17/May/2015:10:05...|/presentations/lo...|http://semicomple...|\n",
            "|83.149.9.216|17/May/2015:10:05...|/presentations/lo...|http://semicomple...|\n",
            "|83.149.9.216|17/May/2015:10:05...|/presentations/lo...|http://semicomple...|\n",
            "|83.149.9.216|17/May/2015:10:05...|/presentations/lo...|http://semicomple...|\n",
            "|83.149.9.216|17/May/2015:10:05...|/presentations/lo...|http://semicomple...|\n",
            "|83.149.9.216|17/May/2015:10:05...|/presentations/lo...|http://semicomple...|\n",
            "|83.149.9.216|17/May/2015:10:05...|/presentations/lo...|http://semicomple...|\n",
            "|83.149.9.216|17/May/2015:10:05...|/presentations/lo...|http://semicomple...|\n",
            "|83.149.9.216|17/May/2015:10:05...|/presentations/lo...|http://semicomple...|\n",
            "|83.149.9.216|17/May/2015:10:05...|/presentations/lo...|http://semicomple...|\n",
            "|83.149.9.216|17/May/2015:10:05...|/presentations/lo...|http://semicomple...|\n",
            "+------------+--------------------+--------------------+--------------------+\n",
            "only showing top 20 rows\n",
            "\n"
          ]
        }
      ]
    },
    {
      "cell_type": "markdown",
      "metadata": {
        "id": "VDCYN9SST4cQ"
      },
      "source": [
        "Đếm số lần domain xuất hiện trong file log. Chú ý là bạn phải lọc các trường `referrer` trống khỏi kết quả và chỉ lấy domain của web đó."
      ]
    },
    {
      "cell_type": "code",
      "metadata": {
        "colab": {
          "base_uri": "https://localhost:8080/"
        },
        "id": "cXP9q5O1Niop",
        "outputId": "dfe564bd-4799-4720-9555-81ab925482d9"
      },
      "source": [
        "logs_df \\\n",
        "    .withColumn(\"referrer\", substring_index(\"referrer\", \"/\", 3)) \\\n",
        "    .where(\"trim(referrer) != '-'\") \\\n",
        "    .groupBy(\"referrer\") \\\n",
        "    .count() \\\n",
        "    .show(100, truncate=False)"
      ],
      "execution_count": 9,
      "outputs": [
        {
          "output_type": "stream",
          "name": "stdout",
          "text": [
            "+--------------------------------------+-----+\n",
            "|referrer                              |count|\n",
            "+--------------------------------------+-----+\n",
            "|http://ijavascript.cn                 |1    |\n",
            "|http://www.google.co.tz               |1    |\n",
            "|http://www.google.ca                  |6    |\n",
            "|https://www.google.hr                 |2    |\n",
            "|https://www.google.ch                 |1    |\n",
            "|http://www.google.ru                  |6    |\n",
            "|http://www.raspberrypi-spanish.es     |1    |\n",
            "|http://semicomplete.com               |2001 |\n",
            "|http://manpages.ubuntu.com            |2    |\n",
            "|http://kufli.blogspot.fr              |1    |\n",
            "|http://www.bing.com                   |6    |\n",
            "|http://rungie.com                     |1    |\n",
            "|http://www.google.co.th               |2    |\n",
            "|https://www.google.cz                 |5    |\n",
            "|http://danceuniverse.ru               |3    |\n",
            "|http://www.google.co.uk               |14   |\n",
            "|http://www.google.rs                  |1    |\n",
            "|http://kufli.blogspot.in              |1    |\n",
            "|http://t.co                           |3    |\n",
            "|http://www.google.nl                  |4    |\n",
            "|https://www.google.hu                 |1    |\n",
            "|http://search.daum.net                |2    |\n",
            "|http://avtoads.net                    |3    |\n",
            "|http://www.google.com.sg              |2    |\n",
            "|http://www.google.lv                  |2    |\n",
            "|http://mishura-optom.ru               |3    |\n",
            "|http://www.baidu.com                  |3    |\n",
            "|http://ubuntuforums.org               |4    |\n",
            "|http://bruteforce.gr                  |1    |\n",
            "|https://www.google.co.th              |2    |\n",
            "|http://kufli.blogspot.nl              |1    |\n",
            "|http://www.google.az                  |1    |\n",
            "|http://www.google.at                  |1    |\n",
            "|http://www.google.com.tw              |1    |\n",
            "|http://www.experts-exchange.com       |1    |\n",
            "|http://lifehacker.com                 |1    |\n",
            "|http://www.ibm.com                    |1    |\n",
            "|http://blog.float.tw                  |3    |\n",
            "|http://zoomq.qiniudn.com              |1    |\n",
            "|http://www.davidsoncustom.com         |1    |\n",
            "|http://zolotoy-lis.ru                 |3    |\n",
            "|http://www.google.com.tr              |1    |\n",
            "|https://www.google.ca                 |3    |\n",
            "|http://antonio-zabila.blogspot.com.es |1    |\n",
            "|http://translate.googleusercontent.com|2    |\n",
            "|http://www.google.co.jp               |2    |\n",
            "|http://tuxradar.com                   |12   |\n",
            "|http://serverfault.com                |1    |\n",
            "|http://doc.ubuntu-fr.org              |1    |\n",
            "|http://znakomstvaonlain.ru            |3    |\n",
            "|https://www.google.com.tw             |1    |\n",
            "|https://www.google.fi                 |3    |\n",
            "|https://www.google.si                 |1    |\n",
            "|http://kufli.blogspot.com.au          |1    |\n",
            "|http://www.google.com.gh              |1    |\n",
            "|https://duckduckgo.com                |3    |\n",
            "|http://image.baidu.com                |1    |\n",
            "|http://images.google.com              |1    |\n",
            "|http://www.xiaofang.me                |1    |\n",
            "|http://forums.opensuse.org            |1    |\n",
            "|http://www.google.iq                  |1    |\n",
            "|http://www.google.com.ar              |3    |\n",
            "|http://tex.stackexchange.com          |1    |\n",
            "|https://www.google.com.ar             |2    |\n",
            "|https://www.google.nl                 |6    |\n",
            "|http://blog.sleeplessbeastie.eu       |1    |\n",
            "|https://www.google.sk                 |1    |\n",
            "|http://www.google.com.ua              |1    |\n",
            "|http://www.google.si                  |1    |\n",
            "|http://genus-industri.us              |1    |\n",
            "|https://www.google.pl                 |3    |\n",
            "|https://www.google.co.mz              |1    |\n",
            "|http://installion.co.uk               |1    |\n",
            "|http://www.adictosalared.com          |1    |\n",
            "|http://jquerylist.com                 |1    |\n",
            "|http://r.duckduckgo.com               |11   |\n",
            "|http://blackwitchcraft.ru             |3    |\n",
            "|https://www.google.com.au             |2    |\n",
            "|http://www.google.dz                  |1    |\n",
            "|http://simplestcodings.blogspot.in    |1    |\n",
            "|http://en.wikipedia.org               |10   |\n",
            "|http://kufli.blogspot.co.uk           |1    |\n",
            "|http://www.logstash.net               |3    |\n",
            "|http://pandce.proboards.com           |1    |\n",
            "|http://www.reproductive-fitness.com   |1    |\n",
            "|http://es.wikipedia.org               |1    |\n",
            "|http://stackoverflow.com              |34   |\n",
            "|http://kherson-apartments.ru          |3    |\n",
            "|http://community.spiceworks.com       |2    |\n",
            "|https://www.google.com.ua             |2    |\n",
            "|http://www.google.fi                  |4    |\n",
            "|https://www.google.co.za              |1    |\n",
            "|http://www.google.md                  |1    |\n",
            "|http://www.google.co.ve               |1    |\n",
            "|http://www.google.se                  |1    |\n",
            "|http://www.google.com                 |123  |\n",
            "|https://www.google.com.br             |9    |\n",
            "|http://kufli.blogspot.de              |5    |\n",
            "|http://www.google.com.au              |4    |\n",
            "|https://www.google.it                 |4    |\n",
            "+--------------------------------------+-----+\n",
            "only showing top 100 rows\n",
            "\n"
          ]
        }
      ]
    }
  ]
}