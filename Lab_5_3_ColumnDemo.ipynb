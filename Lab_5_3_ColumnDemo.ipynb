{
  "nbformat": 4,
  "nbformat_minor": 0,
  "metadata": {
    "colab": {
      "provenance": []
    },
    "kernelspec": {
      "name": "python3",
      "display_name": "Python 3"
    },
    "language_info": {
      "name": "python"
    }
  },
  "cells": [
    {
      "cell_type": "markdown",
      "metadata": {
        "id": "ZaL70vgSqsqe"
      },
      "source": [
        "# Solution Lab 5.3: ColumnDemo\n",
        "\n",
        "## Tổng quan bài tập\n",
        "**Đề bài**: Hãy hoàn thiện các phần `[...]` để hoàn thiện đoạn code và giải quyết bài toán theo yêu cầu.\n",
        "\n",
        "## Tài nguyên tham khảo\n",
        "\n",
        "Bạn có thể tải tập Dataset tại [link sau](https://drive.google.com/file/d/1n4XlWKVloUS2WK3jDtmunn7L6NG8tfXU/view?usp=sharing). Sau đó đưa lên Google Drive và kết nối với Colab là có thể sử dụng được. Tập dữ liệu là file .csv có cấu trúc như sau:\n",
        "```\n",
        "root\n",
        " |-- Year: string (nullable = true)\n",
        " |-- Month: string (nullable = true)\n",
        " |-- DayofMonth: string (nullable = true)\n",
        " |-- DayOfWeek: string (nullable = true)\n",
        " |-- DepTime: string (nullable = true)\n",
        " |-- CRSDepTime: string (nullable = true)\n",
        " |-- ArrTime: string (nullable = true)\n",
        " |-- CRSArrTime: string (nullable = true)\n",
        " |-- UniqueCarrier: string (nullable = true)\n",
        " |-- FlightNum: string (nullable = true)\n",
        " |-- TailNum: string (nullable = true)\n",
        " |-- ActualElapsedTime: string (nullable = true)\n",
        " |-- CRSElapsedTime: string (nullable = true)\n",
        " |-- AirTime: string (nullable = true)\n",
        " |-- ArrDelay: string (nullable = true)\n",
        " |-- DepDelay: string (nullable = true)\n",
        " |-- Origin: string (nullable = true)\n",
        " |-- Dest: string (nullable = true)\n",
        " |-- Distance: string (nullable = true)\n",
        " |-- TaxiIn: string (nullable = true)\n",
        " |-- TaxiOut: string (nullable = true)\n",
        " |-- Cancelled: string (nullable = true)\n",
        " |-- CancellationCode: string (nullable = true)\n",
        " |-- Diverted: string (nullable = true)\n",
        " |-- CarrierDelay: string (nullable = true)\n",
        " |-- WeatherDelay: string (nullable = true)\n",
        " |-- NASDelay: string (nullable = true)\n",
        " |-- SecurityDelay: string (nullable = true)\n",
        " |-- LateAircraftDelay: string (nullable = true)\n",
        " |-- IsArrDelayed: string (nullable = true)\n",
        " |-- IsDepDelayed: string (nullable = true)\n",
        "```\n"
      ]
    },
    {
      "cell_type": "markdown",
      "metadata": {
        "id": "oPRu5D4IfO3I"
      },
      "source": [
        "# Cài đặt Spark trên Google Colab\n",
        "\n",
        "Để có thể sử dụng Spark trên môi trường Google Colab thì bạn sẽ cần cài đặt một số thành phần sau:\n",
        "- Java 8\n",
        "- Spark Binary\n",
        "- findspark"
      ]
    },
    {
      "cell_type": "code",
      "metadata": {
        "id": "yHdKMp8zeMel",
        "colab": {
          "base_uri": "https://localhost:8080/"
        },
        "outputId": "d05b202a-4b6a-4d73-870d-a059b56f3dd5"
      },
      "source": [
        "!sudo apt update\n",
        "!apt-get install openjdk-8-jdk-headless -qq > /dev/null\n",
        "!wget -q https://downloads.apache.org/spark/spark-3.5.0/spark-3.5.0-bin-hadoop3.tgz\n",
        "!tar xf spark-3.5.0-bin-hadoop3.tgz\n",
        "!pip install -q findspark"
      ],
      "execution_count": 1,
      "outputs": [
        {
          "output_type": "stream",
          "name": "stdout",
          "text": [
            "\u001b[33m\r0% [Working]\u001b[0m\r            \rHit:1 http://archive.ubuntu.com/ubuntu jammy InRelease\n",
            "\u001b[33m\r0% [Waiting for headers] [Connecting to security.ubuntu.com (185.125.190.39)] [\u001b[0m\r                                                                               \rGet:2 http://archive.ubuntu.com/ubuntu jammy-updates InRelease [119 kB]\n",
            "\u001b[33m\r0% [2 InRelease 14.2 kB/119 kB 12%] [Waiting for headers] [Waiting for headers]\u001b[0m\r                                                                               \rGet:3 https://cloud.r-project.org/bin/linux/ubuntu jammy-cran40/ InRelease [3,626 B]\n",
            "\u001b[33m\r0% [2 InRelease 15.6 kB/119 kB 13%] [Waiting for headers] [Connecting to ppa.la\u001b[0m\r                                                                               \rHit:4 https://developer.download.nvidia.com/compute/cuda/repos/ubuntu2204/x86_64  InRelease\n",
            "\u001b[33m\r0% [2 InRelease 33.0 kB/119 kB 28%] [Waiting for headers] [Connecting to ppa.la\u001b[0m\r                                                                               \rGet:5 http://security.ubuntu.com/ubuntu jammy-security InRelease [110 kB]\n",
            "Hit:6 http://archive.ubuntu.com/ubuntu jammy-backports InRelease\n",
            "Get:7 https://ppa.launchpadcontent.net/c2d4u.team/c2d4u4.0+/ubuntu jammy InRelease [18.1 kB]\n",
            "Get:8 http://archive.ubuntu.com/ubuntu jammy-updates/universe amd64 Packages [1,333 kB]\n",
            "Hit:9 https://ppa.launchpadcontent.net/deadsnakes/ppa/ubuntu jammy InRelease\n",
            "Hit:10 https://ppa.launchpadcontent.net/graphics-drivers/ppa/ubuntu jammy InRelease\n",
            "Get:11 http://archive.ubuntu.com/ubuntu jammy-updates/main amd64 Packages [1,678 kB]\n",
            "Hit:12 https://ppa.launchpadcontent.net/ubuntugis/ppa/ubuntu jammy InRelease\n",
            "Get:13 https://ppa.launchpadcontent.net/c2d4u.team/c2d4u4.0+/ubuntu jammy/main Sources [2,268 kB]\n",
            "Get:14 https://ppa.launchpadcontent.net/c2d4u.team/c2d4u4.0+/ubuntu jammy/main amd64 Packages [1,164 kB]\n",
            "Fetched 6,693 kB in 2s (3,237 kB/s)\n",
            "Reading package lists... Done\n",
            "Building dependency tree... Done\n",
            "Reading state information... Done\n",
            "40 packages can be upgraded. Run 'apt list --upgradable' to see them.\n"
          ]
        }
      ]
    },
    {
      "cell_type": "markdown",
      "metadata": {
        "id": "1fv63ddnSOG-"
      },
      "source": [
        "Sau đó, bạn sẽ cần khai báo cho hệ thống các đường dẫn cho các thành phần vừa cài."
      ]
    },
    {
      "cell_type": "code",
      "metadata": {
        "id": "A8gN9Zhx8vPb"
      },
      "source": [
        "import os\n",
        "import findspark\n",
        "\n",
        "os.environ[\"JAVA_HOME\"] = \"/usr/lib/jvm/java-8-openjdk-amd64\"\n",
        "os.environ[\"SPARK_HOME\"] = \"/content/spark-3.5.0-bin-hadoop3\"\n",
        "\n",
        "findspark.init()"
      ],
      "execution_count": 2,
      "outputs": []
    },
    {
      "cell_type": "markdown",
      "metadata": {
        "id": "AM4wpiJMTCib"
      },
      "source": [
        "# Kết nối với Google Drive\n",
        "\n",
        "Để lấy dữ liệu từ các Dataset, bạn sẽ phải lưu file dữ liệu lên Google Drive. Sau đó kết nối Colab đến Google Drive của bạn và lấy được các file dữ liệu."
      ]
    },
    {
      "cell_type": "code",
      "metadata": {
        "colab": {
          "base_uri": "https://localhost:8080/"
        },
        "id": "AoYnrNV7UChX",
        "outputId": "4d6c7163-2801-4c97-ac94-13963bef3ed2"
      },
      "source": [
        "from google.colab import drive\n",
        "drive.mount(\"/content/gdrive\")"
      ],
      "execution_count": 3,
      "outputs": [
        {
          "output_type": "stream",
          "name": "stdout",
          "text": [
            "Mounted at /content/gdrive\n"
          ]
        }
      ]
    },
    {
      "cell_type": "markdown",
      "metadata": {
        "id": "t0yzaQQNDKoV"
      },
      "source": [
        "# ColumnDemo\n",
        "\n",
        "Bạn sẽ cần khởi tạo 1 SparkSesson để có thể bắt đầu Spark."
      ]
    },
    {
      "cell_type": "code",
      "metadata": {
        "id": "BjqT5XXj80P8"
      },
      "source": [
        "from pyspark import SparkConf\n",
        "from pyspark.sql import SparkSession\n",
        "from pyspark.sql.functions import col, to_date, concat\n",
        "\n",
        "conf = SparkConf() \\\n",
        "    .setMaster('local') \\\n",
        "    .setAppName('ColumnDemo')\n",
        "\n",
        "spark = SparkSession.builder.config(conf=conf).getOrCreate()\n",
        "sc = spark.sparkContext\n",
        "\n",
        "DATASET_PATH = '/content/gdrive/My Drive/DEP303/fly.csv'"
      ],
      "execution_count": 6,
      "outputs": []
    },
    {
      "cell_type": "markdown",
      "metadata": {
        "id": "vmYx5MmFcXBq"
      },
      "source": [
        "Đọc dữ liệu từ Dataset"
      ]
    },
    {
      "cell_type": "code",
      "metadata": {
        "colab": {
          "base_uri": "https://localhost:8080/"
        },
        "id": "CMJmiGKDZMa-",
        "outputId": "31cc7c18-b73a-4238-b33a-f217107b48a8"
      },
      "source": [
        "airlinesDF = spark.read \\\n",
        "  .format(\"csv\") \\\n",
        "  .option(\"header\", \"true\") \\\n",
        "  .option(\"inferSchema\",\"true\") \\\n",
        "  .option(\"samplingRatio\", \"0.0001\") \\\n",
        "  .load(DATASET_PATH)\n",
        "\n",
        "airlinesDF.printSchema()\n",
        "airlinesDF.show(5)"
      ],
      "execution_count": 7,
      "outputs": [
        {
          "output_type": "stream",
          "name": "stdout",
          "text": [
            "root\n",
            " |-- Year: string (nullable = true)\n",
            " |-- Month: string (nullable = true)\n",
            " |-- DayofMonth: string (nullable = true)\n",
            " |-- DayOfWeek: string (nullable = true)\n",
            " |-- DepTime: string (nullable = true)\n",
            " |-- CRSDepTime: string (nullable = true)\n",
            " |-- ArrTime: string (nullable = true)\n",
            " |-- CRSArrTime: string (nullable = true)\n",
            " |-- UniqueCarrier: string (nullable = true)\n",
            " |-- FlightNum: string (nullable = true)\n",
            " |-- TailNum: string (nullable = true)\n",
            " |-- ActualElapsedTime: string (nullable = true)\n",
            " |-- CRSElapsedTime: string (nullable = true)\n",
            " |-- AirTime: string (nullable = true)\n",
            " |-- ArrDelay: string (nullable = true)\n",
            " |-- DepDelay: string (nullable = true)\n",
            " |-- Origin: string (nullable = true)\n",
            " |-- Dest: string (nullable = true)\n",
            " |-- Distance: string (nullable = true)\n",
            " |-- TaxiIn: string (nullable = true)\n",
            " |-- TaxiOut: string (nullable = true)\n",
            " |-- Cancelled: string (nullable = true)\n",
            " |-- CancellationCode: string (nullable = true)\n",
            " |-- Diverted: string (nullable = true)\n",
            " |-- CarrierDelay: string (nullable = true)\n",
            " |-- WeatherDelay: string (nullable = true)\n",
            " |-- NASDelay: string (nullable = true)\n",
            " |-- SecurityDelay: string (nullable = true)\n",
            " |-- LateAircraftDelay: string (nullable = true)\n",
            " |-- IsArrDelayed: string (nullable = true)\n",
            " |-- IsDepDelayed: string (nullable = true)\n",
            "\n",
            "+----+-----+----------+---------+-------+----------+-------+----------+-------------+---------+-------+-----------------+--------------+-------+--------+--------+------+----+--------+------+-------+---------+----------------+--------+------------+------------+--------+-------------+-----------------+------------+------------+\n",
            "|Year|Month|DayofMonth|DayOfWeek|DepTime|CRSDepTime|ArrTime|CRSArrTime|UniqueCarrier|FlightNum|TailNum|ActualElapsedTime|CRSElapsedTime|AirTime|ArrDelay|DepDelay|Origin|Dest|Distance|TaxiIn|TaxiOut|Cancelled|CancellationCode|Diverted|CarrierDelay|WeatherDelay|NASDelay|SecurityDelay|LateAircraftDelay|IsArrDelayed|IsDepDelayed|\n",
            "+----+-----+----------+---------+-------+----------+-------+----------+-------------+---------+-------+-----------------+--------------+-------+--------+--------+------+----+--------+------+-------+---------+----------------+--------+------------+------------+--------+-------------+-----------------+------------+------------+\n",
            "|1987|   10|        14|        3|    741|       730|    912|       849|           PS|     1451|     NA|               91|            79|     NA|      23|      11|   SAN| SFO|     447|    NA|     NA|        0|              NA|       0|          NA|          NA|      NA|           NA|               NA|         YES|         YES|\n",
            "|1987|   10|        15|        4|    729|       730|    903|       849|           PS|     1451|     NA|               94|            79|     NA|      14|      -1|   SAN| SFO|     447|    NA|     NA|        0|              NA|       0|          NA|          NA|      NA|           NA|               NA|         YES|          NO|\n",
            "|1987|   10|        17|        6|    741|       730|    918|       849|           PS|     1451|     NA|               97|            79|     NA|      29|      11|   SAN| SFO|     447|    NA|     NA|        0|              NA|       0|          NA|          NA|      NA|           NA|               NA|         YES|         YES|\n",
            "|1987|   10|        18|        7|    729|       730|    847|       849|           PS|     1451|     NA|               78|            79|     NA|      -2|      -1|   SAN| SFO|     447|    NA|     NA|        0|              NA|       0|          NA|          NA|      NA|           NA|               NA|          NO|          NO|\n",
            "|1987|   10|        19|        1|    749|       730|    922|       849|           PS|     1451|     NA|               93|            79|     NA|      33|      19|   SAN| SFO|     447|    NA|     NA|        0|              NA|       0|          NA|          NA|      NA|           NA|               NA|         YES|         YES|\n",
            "+----+-----+----------+---------+-------+----------+-------+----------+-------------+---------+-------+-----------------+--------------+-------+--------+--------+------+----+--------+------+-------+---------+----------------+--------+------------+------------+--------+-------------+-----------------+------------+------------+\n",
            "only showing top 5 rows\n",
            "\n"
          ]
        }
      ]
    },
    {
      "cell_type": "markdown",
      "metadata": {
        "id": "8kG6lRtLctzM"
      },
      "source": [
        "Sử dụng **Column String** để truy cập vào các cột `Origin`, `Dest` và `Distance`"
      ]
    },
    {
      "cell_type": "code",
      "metadata": {
        "colab": {
          "base_uri": "https://localhost:8080/"
        },
        "id": "zY4SHxasZSHt",
        "outputId": "cf410e41-066c-4bcb-af52-db2095ce1547"
      },
      "source": [
        "airlinesDF.select(\"Origin\", \"Dest\", \"Distance\").show(10)"
      ],
      "execution_count": 8,
      "outputs": [
        {
          "output_type": "stream",
          "name": "stdout",
          "text": [
            "+------+----+--------+\n",
            "|Origin|Dest|Distance|\n",
            "+------+----+--------+\n",
            "|   SAN| SFO|     447|\n",
            "|   SAN| SFO|     447|\n",
            "|   SAN| SFO|     447|\n",
            "|   SAN| SFO|     447|\n",
            "|   SAN| SFO|     447|\n",
            "|   SAN| SFO|     447|\n",
            "|   SAN| SFO|     447|\n",
            "|   SAN| SFO|     447|\n",
            "|   SAN| SFO|     447|\n",
            "|   SAN| SFO|     447|\n",
            "+------+----+--------+\n",
            "only showing top 10 rows\n",
            "\n"
          ]
        }
      ]
    },
    {
      "cell_type": "markdown",
      "metadata": {
        "id": "QHs2jo6ZdMpd"
      },
      "source": [
        "Sử dụng **Columns Object** để truy cập vào các cột `Origin`, `Dest` và `Distance`"
      ]
    },
    {
      "cell_type": "code",
      "metadata": {
        "colab": {
          "base_uri": "https://localhost:8080/"
        },
        "id": "wO9lbYiKZTkK",
        "outputId": "9bc5ea32-433d-4993-cbe0-68c8e7dfa007"
      },
      "source": [
        "airlinesDF.select(col(\"Origin\"), col(\"Dest\"), col(\"Distance\")).show(10)"
      ],
      "execution_count": 9,
      "outputs": [
        {
          "output_type": "stream",
          "name": "stdout",
          "text": [
            "+------+----+--------+\n",
            "|Origin|Dest|Distance|\n",
            "+------+----+--------+\n",
            "|   SAN| SFO|     447|\n",
            "|   SAN| SFO|     447|\n",
            "|   SAN| SFO|     447|\n",
            "|   SAN| SFO|     447|\n",
            "|   SAN| SFO|     447|\n",
            "|   SAN| SFO|     447|\n",
            "|   SAN| SFO|     447|\n",
            "|   SAN| SFO|     447|\n",
            "|   SAN| SFO|     447|\n",
            "|   SAN| SFO|     447|\n",
            "+------+----+--------+\n",
            "only showing top 10 rows\n",
            "\n"
          ]
        }
      ]
    },
    {
      "cell_type": "markdown",
      "metadata": {
        "id": "VIC1o0kJgRU6"
      },
      "source": [
        "Bạn cần tạo một cột mới là `FlightDate` = `Year + Month + DayofMonth` và chuyển về dạng Date"
      ]
    },
    {
      "cell_type": "code",
      "metadata": {
        "colab": {
          "base_uri": "https://localhost:8080/"
        },
        "id": "tDE-MenZZVH_",
        "outputId": "82c70ae5-662b-444d-829d-040e305fd067"
      },
      "source": [
        "# Các cột ban đầu\n",
        "airlinesDF.select(\"Origin\", \"Dest\", \"Distance\", \"Year\",\"Month\",\"DayofMonth\").show(10)"
      ],
      "execution_count": 11,
      "outputs": [
        {
          "output_type": "stream",
          "name": "stdout",
          "text": [
            "+------+----+--------+----+-----+----------+\n",
            "|Origin|Dest|Distance|Year|Month|DayofMonth|\n",
            "+------+----+--------+----+-----+----------+\n",
            "|   SAN| SFO|     447|1987|   10|        14|\n",
            "|   SAN| SFO|     447|1987|   10|        15|\n",
            "|   SAN| SFO|     447|1987|   10|        17|\n",
            "|   SAN| SFO|     447|1987|   10|        18|\n",
            "|   SAN| SFO|     447|1987|   10|        19|\n",
            "|   SAN| SFO|     447|1987|   10|        21|\n",
            "|   SAN| SFO|     447|1987|   10|        22|\n",
            "|   SAN| SFO|     447|1987|   10|        23|\n",
            "|   SAN| SFO|     447|1987|   10|        24|\n",
            "|   SAN| SFO|     447|1987|   10|        25|\n",
            "+------+----+--------+----+-----+----------+\n",
            "only showing top 10 rows\n",
            "\n"
          ]
        }
      ]
    },
    {
      "cell_type": "markdown",
      "metadata": {
        "id": "VUwLuHZNdyiY"
      },
      "source": [
        "Sử dụng String Expression để thực hiện thao tác chuyển đổi dữ liệu.\n",
        "\n"
      ]
    },
    {
      "cell_type": "code",
      "metadata": {
        "colab": {
          "base_uri": "https://localhost:8080/"
        },
        "id": "RW0SjZVYZVy_",
        "outputId": "b3e30a7b-720b-419e-e7f2-39414a1645d6"
      },
      "source": [
        "airlinesDF.selectExpr(\"Origin\", \"Dest\", \"Distance\", \"to_date(concat(Year,Month,DayofMonth),'yyyyMMdd') as FlightDate\").show(10)"
      ],
      "execution_count": 13,
      "outputs": [
        {
          "output_type": "stream",
          "name": "stdout",
          "text": [
            "+------+----+--------+----------+\n",
            "|Origin|Dest|Distance|FlightDate|\n",
            "+------+----+--------+----------+\n",
            "|   SAN| SFO|     447|1987-10-14|\n",
            "|   SAN| SFO|     447|1987-10-15|\n",
            "|   SAN| SFO|     447|1987-10-17|\n",
            "|   SAN| SFO|     447|1987-10-18|\n",
            "|   SAN| SFO|     447|1987-10-19|\n",
            "|   SAN| SFO|     447|1987-10-21|\n",
            "|   SAN| SFO|     447|1987-10-22|\n",
            "|   SAN| SFO|     447|1987-10-23|\n",
            "|   SAN| SFO|     447|1987-10-24|\n",
            "|   SAN| SFO|     447|1987-10-25|\n",
            "+------+----+--------+----------+\n",
            "only showing top 10 rows\n",
            "\n"
          ]
        }
      ]
    },
    {
      "cell_type": "markdown",
      "metadata": {
        "id": "6uHRDjVnj6gI"
      },
      "source": [
        "Sử dụng Object Expression để thực hiện thao tác chuyển đổi dữ liệu."
      ]
    },
    {
      "cell_type": "code",
      "metadata": {
        "colab": {
          "base_uri": "https://localhost:8080/"
        },
        "id": "LW4cmqXmZYWg",
        "outputId": "04b30736-2620-4bb8-c2ac-8bcbee99a9b3"
      },
      "source": [
        "airlinesDF.select(\"Origin\", \"Dest\", \"Distance\", to_date(concat(\"Year\", \"Month\", \"DayofMonth\"), \"yyyyMMdd\").alias(\"FlightDate\")).show(10)"
      ],
      "execution_count": 14,
      "outputs": [
        {
          "output_type": "stream",
          "name": "stdout",
          "text": [
            "+------+----+--------+----------+\n",
            "|Origin|Dest|Distance|FlightDate|\n",
            "+------+----+--------+----------+\n",
            "|   SAN| SFO|     447|1987-10-14|\n",
            "|   SAN| SFO|     447|1987-10-15|\n",
            "|   SAN| SFO|     447|1987-10-17|\n",
            "|   SAN| SFO|     447|1987-10-18|\n",
            "|   SAN| SFO|     447|1987-10-19|\n",
            "|   SAN| SFO|     447|1987-10-21|\n",
            "|   SAN| SFO|     447|1987-10-22|\n",
            "|   SAN| SFO|     447|1987-10-23|\n",
            "|   SAN| SFO|     447|1987-10-24|\n",
            "|   SAN| SFO|     447|1987-10-25|\n",
            "+------+----+--------+----------+\n",
            "only showing top 10 rows\n",
            "\n"
          ]
        }
      ]
    }
  ]
}