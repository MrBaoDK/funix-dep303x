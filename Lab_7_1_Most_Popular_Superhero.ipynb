{
  "nbformat": 4,
  "nbformat_minor": 0,
  "metadata": {
    "colab": {
      "provenance": []
    },
    "kernelspec": {
      "name": "python3",
      "display_name": "Python 3"
    },
    "language_info": {
      "name": "python"
    }
  },
  "cells": [
    {
      "cell_type": "markdown",
      "metadata": {
        "id": "ZaL70vgSqsqe"
      },
      "source": [
        "# Lab 7.1: Most Popular Superhero\n",
        "\n",
        "## Tổng quan bài tập\n",
        "**Đề bài**: Hãy hoàn thiện các phần `[...]` để hoàn thiện đoạn code và giải quyết bài toán theo yêu cầu. Bạn sẽ cần viết một chương trình để dựa theo tập dữ liệu để đưa ra siêu tên của siêu anh hùng có số lượng kết nối nhiều nhất, và tính được xem trung bình một siêu anh hùng có bao nhiêu kết nối.\n",
        "\n",
        "## Tài nguyên tham khảo\n",
        "\n",
        "Bạn có thể tải tập Dataset tại [link sau](https://drive.google.com/drive/folders/1_f81WTm1fCHG4HMUWM7JOnqVvqfofsSs?usp=sharing). Sau đó đưa lên Google Drive và kết nối với Colab là có thể sử dụng được. Tập dữ liệu gồm 2 file như sau:\n",
        "\n",
        "1. `Marvel_Names.csv`\n",
        "\n",
        "File .csv chứa thông tin về các siêu anh hùng với cấu trúc như sau:\n",
        "- `Id`: Id của siêu anh hùng\n",
        "- `Name`: Tên của siêu anh hùng đó.\n",
        "\n",
        "2. `Marvel_Graph.txt`\n",
        "\n",
        "File .txt chứa các thông tin về kết nối giữa các siêu anh hùng, sẽ có dạng như sau: `1602 3889 1535 6038 533 3986`\n",
        "\n",
        "Dữ liệu này nghĩa là siêu anh hùng với ID là `1602` có kết nối đến các siêu anh hùng `3889 1535 6038 533 3986`.\n",
        "\n",
        "\n",
        "Ngoài ra, bạn có thể tham khảo các video sau trong trường hợp chưa hiểu cách làm bài Lab:\n",
        "- [Find the Most Popular Superhero in a Social Graph](https://funix.udemy.com/course/taming-big-data-with-apache-spark-hands-on/learn/lecture/3726116#questions)\n"
      ]
    },
    {
      "cell_type": "markdown",
      "metadata": {
        "id": "oPRu5D4IfO3I"
      },
      "source": [
        "# Cài đặt Spark trên Google Colab\n",
        "\n",
        "Để có thể sử dụng Spark trên môi trường Google Colab thì bạn sẽ cần cài đặt một số thành phần sau:\n",
        "- Java 8\n",
        "- Spark Binary\n",
        "- findspark"
      ]
    },
    {
      "cell_type": "code",
      "metadata": {
        "id": "yHdKMp8zeMel",
        "colab": {
          "base_uri": "https://localhost:8080/"
        },
        "outputId": "7437c239-2593-463e-b1d4-ebd1a7bff81c"
      },
      "source": [
        "!sudo apt update\n",
        "!apt-get install openjdk-8-jdk-headless -qq > /dev/null\n",
        "!wget -q https://downloads.apache.org/spark/spark-3.5.0/spark-3.5.0-bin-hadoop3.tgz\n",
        "!tar xf spark-3.5.0-bin-hadoop3.tgz\n",
        "!pip install -q findspark"
      ],
      "execution_count": 1,
      "outputs": [
        {
          "output_type": "stream",
          "name": "stdout",
          "text": [
            "Hit:1 http://archive.ubuntu.com/ubuntu jammy InRelease\n",
            "Get:2 http://archive.ubuntu.com/ubuntu jammy-updates InRelease [119 kB]\n",
            "Get:3 https://cloud.r-project.org/bin/linux/ubuntu jammy-cran40/ InRelease [3,626 B]\n",
            "Hit:4 https://developer.download.nvidia.com/compute/cuda/repos/ubuntu2204/x86_64  InRelease\n",
            "Hit:5 http://archive.ubuntu.com/ubuntu jammy-backports InRelease\n",
            "Get:6 http://security.ubuntu.com/ubuntu jammy-security InRelease [110 kB]\n",
            "Get:7 https://ppa.launchpadcontent.net/c2d4u.team/c2d4u4.0+/ubuntu jammy InRelease [18.1 kB]\n",
            "Hit:8 https://ppa.launchpadcontent.net/deadsnakes/ppa/ubuntu jammy InRelease\n",
            "Hit:9 https://ppa.launchpadcontent.net/graphics-drivers/ppa/ubuntu jammy InRelease\n",
            "Hit:10 https://ppa.launchpadcontent.net/ubuntugis/ppa/ubuntu jammy InRelease\n",
            "Get:11 http://archive.ubuntu.com/ubuntu jammy-updates/main amd64 Packages [1,678 kB]\n",
            "Get:12 http://archive.ubuntu.com/ubuntu jammy-updates/universe amd64 Packages [1,333 kB]\n",
            "Get:13 https://ppa.launchpadcontent.net/c2d4u.team/c2d4u4.0+/ubuntu jammy/main Sources [2,268 kB]\n",
            "Get:14 https://ppa.launchpadcontent.net/c2d4u.team/c2d4u4.0+/ubuntu jammy/main amd64 Packages [1,164 kB]\n",
            "Fetched 6,693 kB in 2s (3,261 kB/s)\n",
            "Reading package lists... Done\n",
            "Building dependency tree... Done\n",
            "Reading state information... Done\n",
            "40 packages can be upgraded. Run 'apt list --upgradable' to see them.\n"
          ]
        }
      ]
    },
    {
      "cell_type": "markdown",
      "metadata": {
        "id": "1fv63ddnSOG-"
      },
      "source": [
        "Sau đó, bạn sẽ cần khai báo cho hệ thống các đường dẫn cho các thành phần vừa cài."
      ]
    },
    {
      "cell_type": "code",
      "metadata": {
        "id": "A8gN9Zhx8vPb"
      },
      "source": [
        "import os\n",
        "import findspark\n",
        "\n",
        "os.environ[\"JAVA_HOME\"] = \"/usr/lib/jvm/java-8-openjdk-amd64\"\n",
        "os.environ[\"SPARK_HOME\"] = \"/content/spark-3.5.0-bin-hadoop3\"\n",
        "\n",
        "findspark.init()"
      ],
      "execution_count": 3,
      "outputs": []
    },
    {
      "cell_type": "markdown",
      "metadata": {
        "id": "AM4wpiJMTCib"
      },
      "source": [
        "# Kết nối với Google Drive\n",
        "\n",
        "Để lấy dữ liệu từ các Dataset, bạn sẽ phải lưu file dữ liệu lên Google Drive. Sau đó kết nối Colab đến Google Drive của bạn và lấy được các file dữ liệu."
      ]
    },
    {
      "cell_type": "code",
      "metadata": {
        "colab": {
          "base_uri": "https://localhost:8080/"
        },
        "id": "AoYnrNV7UChX",
        "outputId": "71ffc8ae-cffc-441d-9ee3-c299842e4687"
      },
      "source": [
        "from google.colab import drive\n",
        "drive.mount(\"/content/gdrive\")"
      ],
      "execution_count": 4,
      "outputs": [
        {
          "output_type": "stream",
          "name": "stdout",
          "text": [
            "Mounted at /content/gdrive\n"
          ]
        }
      ]
    },
    {
      "cell_type": "markdown",
      "metadata": {
        "id": "t0yzaQQNDKoV"
      },
      "source": [
        "# Most Popular Superhero\n",
        "\n",
        "Bạn sẽ cần khởi tạo 1 SparkSesson để có thể bắt đầu Spark."
      ]
    },
    {
      "cell_type": "code",
      "metadata": {
        "id": "BjqT5XXj80P8"
      },
      "source": [
        "from pyspark import SparkConf\n",
        "from pyspark.sql import SparkSession\n",
        "from pyspark.sql import functions as func\n",
        "from pyspark.sql.types import StructType, StructField, IntegerType, StringType\n",
        "\n",
        "conf = SparkConf() \\\n",
        "    .setMaster('local') \\\n",
        "    .setAppName('MostPopularSuperhero')\n",
        "\n",
        "spark = SparkSession.builder.config(conf=conf).getOrCreate()\n",
        "sc = spark.sparkContext"
      ],
      "execution_count": 5,
      "outputs": []
    },
    {
      "cell_type": "markdown",
      "metadata": {
        "id": "K_PMvxSPPk-B"
      },
      "source": [
        "Đọc dữ liệu từ Dataset"
      ]
    },
    {
      "cell_type": "code",
      "metadata": {
        "colab": {
          "base_uri": "https://localhost:8080/"
        },
        "id": "vossrePp9T-N",
        "outputId": "356c40ae-c2b7-4059-bb7f-32d86dfd7f11"
      },
      "source": [
        "schema = StructType([\n",
        "\t\t StructField(\"id\", StringType()),\n",
        "\t\t StructField(\"name\", StringType())\n",
        "])\n",
        "MARVELNAMES_PATH = \"/content/gdrive/My Drive/DEP303/Marvel_Names.csv\"\n",
        "names = spark.read \\\n",
        "\t\t.schema(schema) \\\n",
        "\t\t.csv(MARVELNAMES_PATH)\n",
        "names.show()\n",
        "\n",
        "MARVELGRAPH_PATH = \"/content/gdrive/My Drive/DEP303/Marvel_Graph.txt\"\n",
        "lines = spark.read.text(MARVELGRAPH_PATH)\n",
        "lines.show()"
      ],
      "execution_count": 6,
      "outputs": [
        {
          "output_type": "stream",
          "name": "stdout",
          "text": [
            "+---+--------------------+\n",
            "| id|                name|\n",
            "+---+--------------------+\n",
            "|  1|24-HOUR MAN/EMMANUEL|\n",
            "|  2|3-D MAN/CHARLES CHAN|\n",
            "|  3|    4-D MAN/MERCURIO|\n",
            "|  4|             8-BALL/|\n",
            "|  5|                   A|\n",
            "|  6|               A'YIN|\n",
            "|  7|        ABBOTT, JACK|\n",
            "|  8|             ABCISSA|\n",
            "|  9|                ABEL|\n",
            "| 10|ABOMINATION/EMIL BLO|\n",
            "| 11|ABOMINATION | MUTANT|\n",
            "| 12|         ABOMINATRIX|\n",
            "| 13|             ABRAXAS|\n",
            "| 14|          ADAM 3,031|\n",
            "| 15|             ABSALOM|\n",
            "| 16|ABSORBING MAN/CARL C|\n",
            "| 17|ABSORBING MAN | MUTA|\n",
            "| 18|                ACBA|\n",
            "| 19|ACHEBE, REVEREND DOC|\n",
            "| 20|            ACHILLES|\n",
            "+---+--------------------+\n",
            "only showing top 20 rows\n",
            "\n",
            "+--------------------+\n",
            "|               value|\n",
            "+--------------------+\n",
            "|5988 748 1722 375...|\n",
            "|5989 4080 4264 44...|\n",
            "|5982 217 595 1194...|\n",
            "|5983 1165 3836 43...|\n",
            "|5980 2731 3712 15...|\n",
            "|5981 3569 5353 40...|\n",
            "|5986 2658 3712 26...|\n",
            "|5987 2614 5716 17...|\n",
            "|5984 590 4898 745...|\n",
            "|5985 3233 2254 21...|\n",
            "|6294 4898 1127 32...|\n",
            "|270 2658 3003 380...|\n",
            "|271 4935 5716 430...|\n",
            "|272 2717 4363 408...|\n",
            "|273 1165 5013 511...|\n",
            "|274 3920 5310 402...|\n",
            "|275 4366 3373 158...|\n",
            "|276 2277 5251 480...|\n",
            "|277 1068 3495 619...|\n",
            "|278 1145 667 2650...|\n",
            "+--------------------+\n",
            "only showing top 20 rows\n",
            "\n"
          ]
        }
      ]
    },
    {
      "cell_type": "markdown",
      "metadata": {
        "id": "7x6l5H_jWlkA"
      },
      "source": [
        "Tạo một Dataframe để tính số lượng kết nối của một siêu anh hùng, ví dụ:\n",
        "```\n",
        "+----+-----------+\n",
        "|  id|connections|\n",
        "+----+-----------+\n",
        "| 691|          6|\n",
        "|1159|         11|\n",
        "|3959|        142|\n",
        "|1572|         35|\n",
        "+----+-----------+\n",
        "```\n",
        "\n",
        "Lưu ý rằng một id của siêu anh hùng có thể xuất hiện nhiều lần nên bạn sẽ cần tính tổng, để trường id không có các dữ liệu trùng lặp."
      ]
    },
    {
      "cell_type": "code",
      "metadata": {
        "colab": {
          "base_uri": "https://localhost:8080/"
        },
        "id": "4D-Rdofq-QrQ",
        "outputId": "8ad6befd-fd94-4baf-ca7c-7df367a35eb1"
      },
      "source": [
        "def connection_count(line_value):\n",
        "  return len(line_value.rstrip().split(\" \"))-1\n",
        "def marvel_id_in_line(line_value):\n",
        "  return line_value.split(\" \")[0]\n",
        "spark.udf.register(\"connection_count_udf\", connection_count, IntegerType())\n",
        "spark.udf.register(\"get_id\", marvel_id_in_line, StringType())\n",
        "connections = lines.withColumn(\"connectionCount\", func.expr(\"connection_count_udf(value)\")) \\\n",
        "                   .withColumn(\"id\", func.expr(\"get_id(value)\")) \\\n",
        "                   .groupBy(\"id\") \\\n",
        "                   .agg(func.sum(\"connectionCount\").alias(\"connections\"))\n",
        "\n",
        "connections.show()"
      ],
      "execution_count": 13,
      "outputs": [
        {
          "output_type": "stream",
          "name": "stdout",
          "text": [
            "+----+-----------+\n",
            "|  id|connections|\n",
            "+----+-----------+\n",
            "| 691|          6|\n",
            "|1159|         11|\n",
            "|3959|        142|\n",
            "|1572|         35|\n",
            "|2294|         14|\n",
            "|1090|          4|\n",
            "|3606|        171|\n",
            "|3414|          7|\n",
            "| 296|         17|\n",
            "|4821|         16|\n",
            "|2162|         41|\n",
            "|1436|          9|\n",
            "|1512|         11|\n",
            "|6194|         14|\n",
            "|6240|         11|\n",
            "| 829|         37|\n",
            "|2136|          6|\n",
            "|5645|         20|\n",
            "|2069|        263|\n",
            "| 467|          0|\n",
            "+----+-----------+\n",
            "only showing top 20 rows\n",
            "\n"
          ]
        }
      ]
    },
    {
      "cell_type": "markdown",
      "metadata": {
        "id": "hSVMxcSEXiMO"
      },
      "source": [
        "Tính số kết nối trung bình của một siêu anh hùng."
      ]
    },
    {
      "cell_type": "code",
      "metadata": {
        "colab": {
          "base_uri": "https://localhost:8080/"
        },
        "id": "0BAwg5gwXMQ0",
        "outputId": "acb076e1-f228-41ab-b8ed-3cd0dd750c2b"
      },
      "source": [
        "avg_df = connections.select(func.avg(\"connections\").alias(\"AVG_CONNECTIONS\"))\n",
        "\n",
        "avg_df.show()"
      ],
      "execution_count": 14,
      "outputs": [
        {
          "output_type": "stream",
          "name": "stdout",
          "text": [
            "+-----------------+\n",
            "|  AVG_CONNECTIONS|\n",
            "+-----------------+\n",
            "|51.88621646623497|\n",
            "+-----------------+\n",
            "\n"
          ]
        }
      ]
    },
    {
      "cell_type": "markdown",
      "metadata": {
        "id": "eag3GYY2XFbP"
      },
      "source": [
        "Join 2 Dataframe để lấy được dữ liệu về tên của siêu anh hùng"
      ]
    },
    {
      "cell_type": "code",
      "metadata": {
        "colab": {
          "base_uri": "https://localhost:8080/"
        },
        "id": "pmDathWGJsgZ",
        "outputId": "b1f2febe-85f6-4dbc-a36f-e1732b041156"
      },
      "source": [
        "join_expr = connections.id == names.id\n",
        "joined_df = connections \\\n",
        "              .join(names, join_expr, \"inner\") \\\n",
        "              .drop(names.id)\n",
        "\n",
        "joined_df.show()"
      ],
      "execution_count": 15,
      "outputs": [
        {
          "output_type": "stream",
          "name": "stdout",
          "text": [
            "+----+-----------+--------------------+\n",
            "|  id|connections|                name|\n",
            "+----+-----------+--------------------+\n",
            "| 691|          6|BRANDEIS, LIZ PARRIS|\n",
            "|1159|         11|       CONTONI, PAUL|\n",
            "|3959|        142|NIGHTMARE/EDVARD HAB|\n",
            "|1572|         35|DORNOVA-BLONSKY, NAD|\n",
            "|2294|         14|      GUTHRIE, TYLER|\n",
            "|1090|          4|             CLUSTER|\n",
            "|3606|        171| MELTER/BRUNO HORGAN|\n",
            "|3414|          7|MAN-SPIDER CLONE | M|\n",
            "| 296|         17|       AYALA, AWILDA|\n",
            "|4821|         16|               SALLA|\n",
            "|2162|         41|                 GOG|\n",
            "|1436|          9|        DELGADO, LUZ|\n",
            "|1512|         11|        DIETZ, SUSAN|\n",
            "|6194|         14|               WENDY|\n",
            "|6240|         11|          WILD BLOOD|\n",
            "| 829|         37|    CALDRONE, JAVIER|\n",
            "|2136|          6|       GILMORE, BERT|\n",
            "|5645|         20|            TARTARUS|\n",
            "|2069|        263|GARGOYLE II/ISAAC CH|\n",
            "| 467|          0|        BERSERKER II|\n",
            "+----+-----------+--------------------+\n",
            "only showing top 20 rows\n",
            "\n"
          ]
        }
      ]
    },
    {
      "cell_type": "markdown",
      "metadata": {
        "id": "e1kiGWylXnbI"
      },
      "source": [
        "Tìm tên siêu anh hùng có nhiều kết nối nhất"
      ]
    },
    {
      "cell_type": "code",
      "metadata": {
        "colab": {
          "base_uri": "https://localhost:8080/"
        },
        "id": "U8taA9Oc-kq6",
        "outputId": "b2bed3e0-ce63-46ed-a87d-ce851bcc1059"
      },
      "source": [
        "mostPopular = joined_df.sort(func.desc(\"connections\")).first()\n",
        "# mostPopular.show()\n",
        "print(\n",
        "\tmostPopular[2]\n",
        "\t+ \" is the most popular superhero with \"\n",
        "\t+ str(mostPopular[1])\n",
        "\t+ \" co-appearances.\"\n",
        ")"
      ],
      "execution_count": 26,
      "outputs": [
        {
          "output_type": "stream",
          "name": "stdout",
          "text": [
            "CAPTAIN AMERICA is the most popular superhero with 1933 co-appearances.\n"
          ]
        }
      ]
    }
  ]
}